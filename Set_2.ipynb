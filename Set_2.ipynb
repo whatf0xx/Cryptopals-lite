{
 "cells": [
  {
   "cell_type": "markdown",
   "id": "f79b5c05",
   "metadata": {},
   "source": [
    "# Set 2: *Block crypto*"
   ]
  },
  {
   "cell_type": "markdown",
   "id": "8ddf6cff",
   "metadata": {},
   "source": [
    "### Before we get started: The cipher core\n",
    "\n",
    "The Cryptopals challenges are very keen for AES solutions to be implemented more or less *from scratch*. However, no one is really interested in implementing AES encrpytion in all its detail; it doesn't add that much. On the other hand. implementing different modes in detail *is* important, because that is how you can start to understand the difference between ECB, CBC, and the other modes, and their respective vulnerabilities. Therefore, before we begin, we can write a quick function to act as a AES-cipher core: it should take in a 16-byte buffer and an appropriate-length key, and return the encrypted buffer. Then, ECB, CBC etc. can be constructe from this. For more information on how the AES cipher core works in practice, see the [NIST standard](https://nvlpubs.nist.gov/nistpubs/fips/nist.fips.197.pdf) or the [OpenSSL GitHub](https://github.com/openssl/openssl)."
   ]
  },
  {
   "cell_type": "code",
   "execution_count": 1,
   "id": "06a9cb8f",
   "metadata": {},
   "outputs": [],
   "source": [
    "from cryptography.hazmat.primitives.ciphers import Cipher, algorithms, modes\n",
    "\n",
    "def AES_core_encrypt(buffer: bytes, key: bytes) -> bytes:\n",
    "    assert len(buffer) == 16, ('Cipher core can only handle 16-byte blocks.')\n",
    "    assert len(key) == 16, ('Key length must be 16 bytes.')\n",
    "    \n",
    "    cipher = Cipher(algorithms.AES(key), modes.ECB())\n",
    "    encryptor = cipher.encryptor()\n",
    "    return encryptor.update(buffer)\n",
    "\n",
    "def AES_core_decrypt(buffer: bytes, key: bytes) -> bytes:\n",
    "    assert len(buffer) == 16, ('Cipher core can only handle 16-byte blocks.')\n",
    "    assert len(key) == 16, ('Key length must be 16 bytes.')\n",
    "    \n",
    "    cipher = Cipher(algorithms.AES(key), modes.ECB())\n",
    "    decryptor = cipher.decryptor()\n",
    "    return decryptor.update(buffer)"
   ]
  },
  {
   "cell_type": "markdown",
   "id": "a6cd70ca",
   "metadata": {},
   "source": [
    "Let's add a quick sanity check here to make sure what is going on makes good sense, and that decrpytion is, at the least, the opposite action to encryption:"
   ]
  },
  {
   "cell_type": "code",
   "execution_count": 2,
   "id": "dca3452c",
   "metadata": {},
   "outputs": [
    {
     "data": {
      "text/plain": [
       "True"
      ]
     },
     "execution_count": 2,
     "metadata": {},
     "output_type": "execute_result"
    }
   ],
   "source": [
    "test = b'[SIXTEEN BYTES1]'\n",
    "test_key = b'YELLOW SUBMARINE'\n",
    "AES_core_decrypt(AES_core_encrypt(test, test_key), test_key) == test"
   ]
  },
  {
   "cell_type": "markdown",
   "id": "86609f5d",
   "metadata": {},
   "source": [
    "Finally, we can add some useful functions here that we will call A LOT:"
   ]
  },
  {
   "cell_type": "code",
   "execution_count": 3,
   "id": "d9ecc0d6",
   "metadata": {},
   "outputs": [],
   "source": [
    "def eq_buffer_XOR(a: bytes, b: bytes) -> bytes:\n",
    "    \"\"\"\n",
    "    Take 2 equal length buffers and return their logical XOR.\n",
    "    \"\"\"\n",
    "    assert len(a) == len(b), \"Byte buffers must be of equal length.\"\n",
    "    return bytes([i^j for i, j in zip(a, b)])"
   ]
  },
  {
   "cell_type": "markdown",
   "id": "1f66d535",
   "metadata": {},
   "source": [
    "## Task 9: *Implement PKCS#7 padding*"
   ]
  },
  {
   "cell_type": "markdown",
   "id": "37843315",
   "metadata": {},
   "source": [
    "From the assertions in the blocks above, we need to always work with blocks of 16 bytes. The **PKCS#7** scheme achieves this by padding the end of an irregularly sized block with byte representations of the number of bytes needed to bring it up to the correct length. So, if our message to encrypt is 12 bytes, and we want to bring it up to the standard 16, we append 4 bytes of '\\x04':"
   ]
  },
  {
   "cell_type": "code",
   "execution_count": 4,
   "id": "d7eefddb",
   "metadata": {},
   "outputs": [],
   "source": [
    "def PKCS7_pad(buffer: bytes, length: int=16) -> bytes:\n",
    "    if len(buffer) == length:\n",
    "        return buffer\n",
    "    \n",
    "    if not buffer:\n",
    "        raise ValueError(\"Can't pad an empty block.\")\n",
    "        \n",
    "    if len(buffer) > length:\n",
    "        raise ValueError(\"Buffer longer than block length.\")\n",
    "    \n",
    "    to_pad = length - len(buffer)\n",
    "    return buffer + bytes([to_pad]) * to_pad\n",
    "\n",
    "def PKCS7_unpad(block: bytes) -> bytes:\n",
    "    if block[-1] > 16:\n",
    "        return block\n",
    "    return block[:-block[-1]]"
   ]
  },
  {
   "cell_type": "markdown",
   "id": "f9407a75",
   "metadata": {},
   "source": [
    "We can quickly check that we get the expected result:"
   ]
  },
  {
   "cell_type": "code",
   "execution_count": 5,
   "id": "bb422d99",
   "metadata": {},
   "outputs": [
    {
     "data": {
      "text/plain": [
       "b'YELLOW SUBMARINE\\x04\\x04\\x04\\x04'"
      ]
     },
     "execution_count": 5,
     "metadata": {},
     "output_type": "execute_result"
    }
   ],
   "source": [
    "PKCS7_pad(b'YELLOW SUBMARINE', 20)"
   ]
  },
  {
   "cell_type": "code",
   "execution_count": 6,
   "id": "1522dbcc",
   "metadata": {},
   "outputs": [
    {
     "data": {
      "text/plain": [
       "b'YELLOW SUBMARINE'"
      ]
     },
     "execution_count": 6,
     "metadata": {},
     "output_type": "execute_result"
    }
   ],
   "source": [
    "PKCS7_unpad(b'YELLOW SUBMARINE\\x04\\x04\\x04\\x04')"
   ]
  },
  {
   "cell_type": "markdown",
   "id": "05484a10",
   "metadata": {},
   "source": [
    "## Task 10: *Implement CBC mode*"
   ]
  },
  {
   "cell_type": "markdown",
   "id": "c5e91b9f",
   "metadata": {},
   "source": [
    "To implement CBC, we take each successive plaintext block of a message, and, before encrypting it, XOR it with the previous encrpyted block. For the first block, we do the XOR against a (usually) random *initialisation vector* (IV)."
   ]
  },
  {
   "cell_type": "code",
   "execution_count": 7,
   "id": "95cc18dd",
   "metadata": {},
   "outputs": [],
   "source": [
    "def CBC_encrypt(buffer: bytes, key: bytes, IV: bytes, block_length: int=16):\n",
    "    assert len(IV) == block_length, (\"Initialisation vector must be of length equal to 1 block.\")\n",
    "    if len(buffer) <= block_length:\n",
    "        import warnings\n",
    "        warnings.warn(\"Encrypting a block of length <= block_length is NOT secure!\")\n",
    "        return AES_core_encrypt(eq_buffer_XOR(IV, PKCS7_pad(buffer)), key, block_length)\n",
    "    \n",
    "    prev_block = IV\n",
    "    no_blocks = len(buffer) // block_length + 1\n",
    "    blocks = [buffer[i*16:(i+1)*16] for i in range(no_blocks - 1)]\n",
    "    try:\n",
    "        blocks.append(PKCS7_pad(buffer[16*(no_blocks - 1):]))\n",
    "    except:\n",
    "        pass\n",
    "    \n",
    "    enc_blocks = [\"0\"*block_length] * no_blocks\n",
    "    for i, block in enumerate(blocks):\n",
    "        enc_blocks[i] = AES_core_encrypt(eq_buffer_XOR(prev_block, block), key)\n",
    "        prev_block = enc_blocks[i]\n",
    "        \n",
    "    return b\"\".join(enc_blocks)\n",
    "\n",
    "def CBC_decrypt(buffer: bytes, key: bytes, IV: bytes, block_length: int=16):\n",
    "    assert len(buffer) > block_length, (\"Buffer to decrypt is less than a single block.\")\n",
    "    if len(buffer) == block_length:\n",
    "        return AES_core_decrypt(block, key)\n",
    "    \n",
    "    no_blocks = len(buffer) // block_length\n",
    "    blocks = [buffer[i*16:(i+1)*16] for i in range(no_blocks)]\n",
    "    \n",
    "    dec_blocks = enc_blocks = [\"0\"*block_length] * (no_blocks-1)\n",
    "    \n",
    "    for i, block in enumerate(reversed(blocks)):\n",
    "        if i == 0:\n",
    "            prev_block = AES_core_decrypt(block, key)\n",
    "        else:\n",
    "            dec_blocks[i-1] = eq_buffer_XOR(prev_block, block)\n",
    "            prev_block = AES_core_decrypt(block, key)\n",
    "            \n",
    "    return eq_buffer_XOR(prev_block, IV) + b\"\".join(reversed(dec_blocks))"
   ]
  },
  {
   "cell_type": "code",
   "execution_count": 8,
   "id": "74d9d7c7",
   "metadata": {},
   "outputs": [],
   "source": [
    "ciphertext = \"\"\n",
    "with open(\"s2t2.txt\" , 'r') as file:\n",
    "    for line in file:\n",
    "        for char in line:\n",
    "            if char == \"\\n\":\n",
    "                continue\n",
    "            else:\n",
    "                ciphertext += char\n",
    "                \n",
    "import base64\n",
    "ciphertext_bytes = base64.b64decode(ciphertext)"
   ]
  },
  {
   "cell_type": "code",
   "execution_count": 9,
   "id": "4eedc04c",
   "metadata": {},
   "outputs": [],
   "source": [
    "IV = b'\\x00' * 16\n",
    "decryption = CBC_decrypt(ciphertext_bytes, b'YELLOW SUBMARINE', IV)"
   ]
  },
  {
   "cell_type": "code",
   "execution_count": 10,
   "id": "96761ac7",
   "metadata": {},
   "outputs": [
    {
     "name": "stdout",
     "output_type": "stream",
     "text": [
      "I'm back and I'm ringin' the bell \n",
      "A rockin' on the mike while the fly girls yell \n",
      "In ecstasy in the back of me \n",
      "Well that's my DJ Deshay cuttin' all them Z's \n",
      "Hittin' hard and the girlies goin' crazy \n",
      "Vanilla's on the mike, man I'm not lazy. \n",
      "\n",
      "I'm lettin' my drug kick in \n",
      "It controls my mouth and I begin \n",
      "To just let it flow, let my concepts go \n",
      "My posse's to the side yellin', Go Vanilla Go! \n",
      "\n",
      "Smooth 'cause that's the way I will be \n",
      "And if you don't give a damn, then \n",
      "Why you starin' at me \n",
      "So get off 'cause I control the stage \n",
      "There's no dissin' allowed \n",
      "I'm in my own phase \n",
      "The girlies sa y they love me and that is ok \n",
      "And I can dance better than any kid n' play \n",
      "\n",
      "Stage 2 -- Yea the one ya' wanna listen to \n",
      "It's off my head so let the beat play through \n",
      "So I can funk it up and make it sound good \n",
      "1-2-3 Yo -- Knock on some wood \n",
      "For good luck, I like my rhymes atrocious \n",
      "Supercalafragilisticexpialidocious \n",
      "I'm an effect and that you can bet \n",
      "I can take a fly girl and make her wet. \n",
      "\n",
      "I'm like Samson -- Samson to Delilah \n",
      "There's no denyin', You can try to hang \n",
      "But you'll keep tryin' to get my style \n",
      "Over and over, practice makes perfect \n",
      "But not if you're a loafer. \n",
      "\n",
      "You'll get nowhere, no place, no time, no girls \n",
      "Soon -- Oh my God, homebody, you probably eat \n",
      "Spaghetti with a spoon! Come on and say it! \n",
      "\n",
      "VIP. Vanilla Ice yep, yep, I'm comin' hard like a rhino \n",
      "Intoxicating so you stagger like a wino \n",
      "So punks stop trying and girl stop cryin' \n",
      "Vanilla Ice is sellin' and you people are buyin' \n",
      "'Cause why the freaks are jockin' like Crazy Glue \n",
      "Movin' and groovin' trying to sing along \n",
      "All through the ghetto groovin' this here song \n",
      "Now you're amazed by the VIP posse. \n",
      "\n",
      "Steppin' so hard like a German Nazi \n",
      "Startled by the bases hittin' ground \n",
      "There's no trippin' on mine, I'm just gettin' down \n",
      "Sparkamatic, I'm hangin' tight like a fanatic \n",
      "You trapped me once and I thought that \n",
      "You might have it \n",
      "So step down and lend me your ear \n",
      "'89 in my time! You, '90 is my year. \n",
      "\n",
      "You're weakenin' fast, YO! and I can tell it \n",
      "Your body's gettin' hot, so, so I can smell it \n",
      "So don't be mad and don't be sad \n",
      "'Cause the lyrics belong to ICE, You can call me Dad \n",
      "You're pitchin' a fit, so step back and endure \n",
      "Let the witch doctor, Ice, do the dance to cure \n",
      "So come up close and don't be square \n",
      "You wanna battle me -- Anytime, anywhere \n",
      "\n",
      "You thought that I was weak, Boy, you're dead wrong \n",
      "So come on, everybody and sing this song \n",
      "\n",
      "Say -- Play that funky music Say, go white boy, go white boy go \n",
      "play that funky music Go white boy, go white boy, go \n",
      "Lay down and boogie and play that funky music till you die. \n",
      "\n",
      "Play that funky music Come on, Come on, let me hear \n",
      "Play that funky music white boy you say it, say it \n",
      "Play that funky music A little louder now \n",
      "Play that funky music, white boy Come on, Come on, Come on \n",
      "Play that funky music \n",
      "\u0004\u0004\u0004\u0004\n"
     ]
    }
   ],
   "source": [
    "print(decryption.decode())"
   ]
  },
  {
   "cell_type": "markdown",
   "id": "a54a193a",
   "metadata": {},
   "source": [
    "N.B. these characters at the end are just the PKCS#7 padding - we don't need to worry about them."
   ]
  },
  {
   "cell_type": "markdown",
   "id": "d753cc77",
   "metadata": {},
   "source": [
    "## Task 11: *An ECB/CBC detection oracle*"
   ]
  },
  {
   "cell_type": "markdown",
   "id": "7aa8ae06",
   "metadata": {},
   "source": [
    "The first stop here is actually to write some code to do arbitrary ECB encryption and decrpytion. *Yes*, this is technically the job of Set 1 Task 7, but hey, we're learning on the job. First, a quick function so that from now on, we can more easily break up a message into the appropriate blocks:"
   ]
  },
  {
   "cell_type": "code",
   "execution_count": 11,
   "id": "a747db19",
   "metadata": {},
   "outputs": [],
   "source": [
    "from typing import List\n",
    "from itertools import pairwise\n",
    "\n",
    "def blocks(buffer: bytes, blocksize: int=16) -> List[bytes]:\n",
    "    no_of_blocks = len(buffer) // blocksize\n",
    "    if len(buffer) % blocksize == 0:\n",
    "        return [buffer[blocksize*i:blocksize*(i+1)] for i in range(no_of_blocks)]\n",
    "    blocks = [buffer[blocksize*i:blocksize*(i+1)] for i in range(no_of_blocks)]\n",
    "    blocks.append(PKCS7_pad(buffer[16*no_of_blocks:]))\n",
    "    return blocks\n",
    "\n",
    "def sanitise_decryption(blocks: List[bytes]) -> str:\n",
    "    return b\"\".join(blocks[:-1] + [PKCS7_unpad(blocks[-1])])\n",
    "\n",
    "def ECB_encrypt(buffer: bytes, key: bytes, blocklength: int=16) -> bytes:\n",
    "    return b\"\".join([AES_core_encrypt(block, key) for block in blocks(buffer)])\n",
    "\n",
    "def ECB_decrypt(buffer: bytes, key: bytes, blocklength: int=16) -> bytes:\n",
    "    return sanitise_decryption([AES_core_decrypt(block, key) for block in blocks(buffer)])\n",
    "\n",
    "def CBC_encrypt(buffer: bytes, key: bytes, IV: bytes, block_length: int=16):\n",
    "    prev_block = IV\n",
    "    bks = blocks(buffer)\n",
    "    \n",
    "    enc_blocks = [(prev_block := AES_core_encrypt(eq_buffer_XOR(prev_block, block), key)) for block in bks]\n",
    "    return b\"\".join(enc_blocks)\n",
    "\n",
    "def CBC_decrypt(buffer: bytes, key: bytes, IV: bytes, block_length: int=16):\n",
    "    bks = blocks(IV + buffer)\n",
    "    \n",
    "    dec_blocks = [eq_buffer_XOR(AES_core_decrypt(prev_block, key), block) for prev_block, block in pairwise(reversed(bks))]\n",
    "    return b\"\".join(reversed(dec_blocks))"
   ]
  },
  {
   "cell_type": "code",
   "execution_count": 12,
   "id": "3afa5bb0",
   "metadata": {},
   "outputs": [],
   "source": [
    "ciphertext = \"\"\n",
    "with open('s1t7_data.txt', 'r') as file:\n",
    "    for line in file:\n",
    "        for char in line:\n",
    "            if char == \"\\n\":\n",
    "                continue\n",
    "            ciphertext += char\n",
    "cipher_bytes = base64.b64decode(ciphertext)"
   ]
  },
  {
   "cell_type": "code",
   "execution_count": 13,
   "id": "860464e5",
   "metadata": {
    "scrolled": false
   },
   "outputs": [
    {
     "name": "stdout",
     "output_type": "stream",
     "text": [
      "I'm back and I'm ringin' the bell \n",
      "A rockin' on the mike while the fly girls yell \n",
      "In ecstasy in the back of me \n",
      "Well that's my DJ Deshay cuttin' all them Z's \n",
      "Hittin' hard and the girlies goin' crazy \n",
      "Vanilla's on the mike, man I'm not lazy. \n",
      "\n",
      "I'm lettin' my drug kick in \n",
      "It controls my mouth and I begin \n",
      "To just let it flow, let my concepts go \n",
      "My posse's to the side yellin', Go Vanilla Go! \n",
      "\n",
      "Smooth 'cause that's the way I will be \n",
      "And if you don't give a damn, then \n",
      "Why you starin' at me \n",
      "So get off 'cause I control the stage \n",
      "There's no dissin' allowed \n",
      "I'm in my own phase \n",
      "The girlies sa y they love me and that is ok \n",
      "And I can dance better than any kid n' play \n",
      "\n",
      "Stage 2 -- Yea the one ya' wanna listen to \n",
      "It's off my head so let the beat play through \n",
      "So I can funk it up and make it sound good \n",
      "1-2-3 Yo -- Knock on some wood \n",
      "For good luck, I like my rhymes atrocious \n",
      "Supercalafragilisticexpialidocious \n",
      "I'm an effect and that you can bet \n",
      "I can take a fly girl and make her wet. \n",
      "\n",
      "I'm like Samson -- Samson to Delilah \n",
      "There's no denyin', You can try to hang \n",
      "But you'll keep tryin' to get my style \n",
      "Over and over, practice makes perfect \n",
      "But not if you're a loafer. \n",
      "\n",
      "You'll get nowhere, no place, no time, no girls \n",
      "Soon -- Oh my God, homebody, you probably eat \n",
      "Spaghetti with a spoon! Come on and say it! \n",
      "\n",
      "VIP. Vanilla Ice yep, yep, I'm comin' hard like a rhino \n",
      "Intoxicating so you stagger like a wino \n",
      "So punks stop trying and girl stop cryin' \n",
      "Vanilla Ice is sellin' and you people are buyin' \n",
      "'Cause why the freaks are jockin' like Crazy Glue \n",
      "Movin' and groovin' trying to sing along \n",
      "All through the ghetto groovin' this here song \n",
      "Now you're amazed by the VIP posse. \n",
      "\n",
      "Steppin' so hard like a German Nazi \n",
      "Startled by the bases hittin' ground \n",
      "There's no trippin' on mine, I'm just gettin' down \n",
      "Sparkamatic, I'm hangin' tight like a fanatic \n",
      "You trapped me once and I thought that \n",
      "You might have it \n",
      "So step down and lend me your ear \n",
      "'89 in my time! You, '90 is my year. \n",
      "\n",
      "You're weakenin' fast, YO! and I can tell it \n",
      "Your body's gettin' hot, so, so I can smell it \n",
      "So don't be mad and don't be sad \n",
      "'Cause the lyrics belong to ICE, You can call me Dad \n",
      "You're pitchin' a fit, so step back and endure \n",
      "Let the witch doctor, Ice, do the dance to cure \n",
      "So come up close and don't be square \n",
      "You wanna battle me -- Anytime, anywhere \n",
      "\n",
      "You thought that I was weak, Boy, you're dead wrong \n",
      "So come on, everybody and sing this song \n",
      "\n",
      "Say -- Play that funky music Say, go white boy, go white boy go \n",
      "play that funky music Go white boy, go white boy, go \n",
      "Lay down and boogie and play that funky music till you die. \n",
      "\n",
      "Play that funky music Come on, Come on, let me hear \n",
      "Play that funky music white boy you say it, say it \n",
      "Play that funky music A little louder now \n",
      "Play that funky music, white boy Come on, Come on, Come on \n",
      "Play that funky music \n",
      "\n"
     ]
    }
   ],
   "source": [
    "print(ECB_decrypt(cipher_bytes, b'YELLOW SUBMARINE').decode())"
   ]
  },
  {
   "cell_type": "markdown",
   "id": "e247c490",
   "metadata": {},
   "source": [
    "I'll leave that here as a quick test that the ECB code is definitelty working OK!\n",
    "\n",
    "Now, we want to write an encryption oracle that:\n",
    "- encodes using a random, unknown key.\n",
    "- uses ECB or CBC half the time each, chosen randomly.\n",
    "- pad 5-10 (count chosen randomly) bytes before and after the plaintext."
   ]
  },
  {
   "cell_type": "code",
   "execution_count": 14,
   "id": "5eaf67c3",
   "metadata": {},
   "outputs": [],
   "source": [
    "from secrets import token_bytes, randbelow\n",
    "\n",
    "def encryption_oracle(plaintext: str) -> str:\n",
    "    ptext_bytes = plaintext.encode()\n",
    "    rand_padding1 = b'\\x00' * (5 + randbelow(6))\n",
    "    rand_padding2 = b'\\x00' * (5 + randbelow(6))\n",
    "    padded_ptext = rand_padding1 + ptext_bytes + rand_padding2\n",
    "    random_key = token_bytes(16)\n",
    "    \n",
    "    if randbelow(2) == 0:\n",
    "        \"\"\"\n",
    "        Use ECB mode:\n",
    "        \"\"\"\n",
    "        return base64.b64encode(ECB_encrypt(padded_ptext, random_key)).decode()\n",
    "    \n",
    "    \"\"\"\n",
    "    Use CBC mode:\n",
    "    \"\"\"\n",
    "    random_IV = token_bytes(16)\n",
    "    return base64.b64encode(CBC_encrypt(padded_ptext, random_key, random_IV)).decode()"
   ]
  },
  {
   "cell_type": "code",
   "execution_count": 15,
   "id": "9a626f48",
   "metadata": {},
   "outputs": [],
   "source": [
    "def repeats_in(ciphertext: str, blocklength: int=16) -> bool:\n",
    "    cipher_bytes = base64.b64decode(ciphertext)\n",
    "    bks = blocks(cipher_bytes)\n",
    "    if len(set(bks)) == len(bks):\n",
    "        return False\n",
    "    return True"
   ]
  },
  {
   "cell_type": "code",
   "execution_count": 16,
   "id": "fdaf9bbb",
   "metadata": {
    "scrolled": true
   },
   "outputs": [
    {
     "data": {
      "text/plain": [
       "True"
      ]
     },
     "execution_count": 16,
     "metadata": {},
     "output_type": "execute_result"
    }
   ],
   "source": [
    "malicious_plaintext= \"A\" * 100\n",
    "repeats_in(encryption_oracle(malicious_plaintext))"
   ]
  },
  {
   "cell_type": "markdown",
   "id": "0ece0f4b",
   "metadata": {},
   "source": [
    "By using a malicious plaintext, even with the padding at the start and end we can find repeats and thus verify if we're in ECB or CBC mode! Now let's wrap this up so that we can write a function that takes the encryption oracle as an input, and tells us if its ECB or CBC:"
   ]
  },
  {
   "cell_type": "code",
   "execution_count": 17,
   "id": "b67012b8",
   "metadata": {},
   "outputs": [],
   "source": [
    "class Oracle():\n",
    "    my_modes={0:'ECB', 1:'CBC'}\n",
    "    def __init__(self, blocklength: int=16):\n",
    "        self.blocklength = 16\n",
    "        self.mode = self.my_modes[randbelow(2)]\n",
    "        \n",
    "    def __repr__(self):\n",
    "        return f\"Encrpytion oracle that uses {self.mode}.\"\n",
    "    \n",
    "    def encrypt(self, plaintext: str) -> str:\n",
    "        random_key = token_bytes(16)\n",
    "        pad1 = token_bytes(randbelow(6)+5)\n",
    "        pad2 = token_bytes(randbelow(6)+5)\n",
    "        ptext_pb = pad1 + plaintext.encode() + pad2\n",
    "        match self.mode:\n",
    "            case 'ECB':\n",
    "                return base64.b64encode(ECB_encrypt(ptext_pb, random_key)).decode()\n",
    "            case 'CBC':\n",
    "                random_IV = token_bytes(16)\n",
    "                return base64.b64encode(CBC_encrypt(ptext_pb, random_key, random_IV)).decode()\n",
    "            case _:\n",
    "                raise ValueError(f\"Unrecognised encryption type '{self.mode}'.\")\n",
    "        "
   ]
  },
  {
   "cell_type": "code",
   "execution_count": 18,
   "id": "7fe367be",
   "metadata": {},
   "outputs": [
    {
     "name": "stdout",
     "output_type": "stream",
     "text": [
      "ECB Cqx8vXfjBnzBGBNRoJtmCsd4ecFBx2fzp3YK24vEy6LHeHnBQcdn86d2CtuLxMuix3h5wUHHZ/Ondgrbi8TLosd4ecFBx2fzp3YK24vEy6LHeHnBQcdn86d2CtuLxMuiRuVyfpt/wDZlUcWDeXxA/XXq4s1bqjEVKubwlE5qBZk= True\n",
      "ECB\n"
     ]
    }
   ],
   "source": [
    "a = Oracle()\n",
    "print(a.mode, enc := a.encrypt(malicious_plaintext), repeats_in(enc))\n",
    "\n",
    "def detection_oracle(encryptor: callable) -> str:\n",
    "    malicious_plaintext = \"A\" * 100\n",
    "    if repeats_in(encryptor(malicious_plaintext)):\n",
    "        return 'ECB'\n",
    "    return 'CBC'\n",
    "\n",
    "print(detection_oracle(a.encrypt))"
   ]
  },
  {
   "cell_type": "markdown",
   "id": "b76ba61a",
   "metadata": {},
   "source": [
    "## Task 12: *Byte-at-a-time ECB decryption (Simple)*"
   ]
  },
  {
   "cell_type": "markdown",
   "id": "73fffa8a",
   "metadata": {},
   "source": [
    "first, we need a function that encrypts buffers under a consistent but unknown key:"
   ]
  },
  {
   "cell_type": "code",
   "execution_count": 19,
   "id": "ef459bff",
   "metadata": {},
   "outputs": [],
   "source": [
    "consistent_key = token_bytes(16)  # Don't re-run this cell while the analysis is going!"
   ]
  },
  {
   "cell_type": "code",
   "execution_count": 20,
   "id": "bdf1bf2d",
   "metadata": {},
   "outputs": [],
   "source": [
    "def consistent_ECB(buffer: bytes) -> bytes:\n",
    "    return ECB_encrypt(buffer, consistent_key)"
   ]
  },
  {
   "cell_type": "code",
   "execution_count": 21,
   "id": "33924dc2",
   "metadata": {},
   "outputs": [],
   "source": [
    "unknown_string = \"\"\"Um9sbGluJyBpbiBteSA1LjAKV2l0aCBteSByYWctdG9wIGRvd24gc28gbXkg\n",
    "aGFpciBjYW4gYmxvdwpUaGUgZ2lybGllcyBvbiBzdGFuZGJ5IHdhdmluZyBq\n",
    "dXN0IHRvIHNheSBoaQpEaWQgeW91IHN0b3A/IE5vLCBJIGp1c3QgZHJvdmUg\n",
    "YnkK\"\"\".replace(\"\\n\", \"\")"
   ]
  },
  {
   "cell_type": "code",
   "execution_count": 22,
   "id": "3b513200",
   "metadata": {},
   "outputs": [],
   "source": [
    "def attack_ECB(prefix: bytes) -> bytes:\n",
    "    return consistent_ECB(prefix + b\"\".join(blocks(base64.b64decode(unknown_string))))"
   ]
  },
  {
   "cell_type": "code",
   "execution_count": 23,
   "id": "f76f32a1",
   "metadata": {},
   "outputs": [
    {
     "data": {
      "text/plain": [
       "b'\\xcf\\xc2\\x1cZpH\\x8a\\x8c%\\xebB\\x83\\xa2\\xe3\\xe5yD \\x0c,\"\\xc6O\\xb8\\xa9\\x12\\x10\\x8a\\xd5\\x15\\xce\\x99\\x9e\\xd5p\\xe9\\xe7\\xd0,\\xa4\\x17\\xed\\x0e\\x8e*O5\\x0eLi\\xed\\xab\\xa8\\x9a\\xba\\xbd\\x8f\\xa2\\xeb\\x1a\\xccu\\xc2\\x7fy\\xc2\\xdc-\\xd1\\xbe\\xa5?\\xe8\\xcazp*9\\xe96\\xbe\\x8d\\n\\x1f\\xb3Xb\\xf7\\xc6+v\\xffC\\x06:~?\\x0f\\xf6\\x02\\x82so\\x8a\\xab(.\\xe5~\\xe7\\x00\\x1c\\xab/\\xf6\\xbe\\xac~;w\\xc1\\xf5\\xce~\\xce|\\xd7*&\\xcc\\xf3<\\x03,\\x8e\\x88\\xfe\\x87\\xc7\\x1fR\\xab\\xe9\\xff'"
      ]
     },
     "execution_count": 23,
     "metadata": {},
     "output_type": "execute_result"
    }
   ],
   "source": [
    "attack_ECB(b\"\")"
   ]
  },
  {
   "cell_type": "markdown",
   "id": "7f728d49",
   "metadata": {},
   "source": [
    "The above gibberish represents the raw, encrypted text - now we want to see what we can discover by prepending malicious plaintext."
   ]
  },
  {
   "cell_type": "code",
   "execution_count": 24,
   "id": "52d917ed",
   "metadata": {},
   "outputs": [],
   "source": [
    "raw_encrypted = attack_ECB(b'')"
   ]
  },
  {
   "cell_type": "code",
   "execution_count": 25,
   "id": "548f4102",
   "metadata": {},
   "outputs": [
    {
     "name": "stdout",
     "output_type": "stream",
     "text": [
      "The block length is 16\n"
     ]
    }
   ],
   "source": [
    "for i in range(1, 100):\n",
    "    if raw_encrypted in attack_ECB(b'0' * i):\n",
    "        print(f\"The block length is {i}\")\n",
    "        break"
   ]
  },
  {
   "cell_type": "markdown",
   "id": "1bd350ef",
   "metadata": {},
   "source": [
    "This effectively also verifies that the encryption is in fact in ECB mode; because successive blocks don't affect each other; prepending a whole block leaves the rest of the text unchanged.\n",
    "\n",
    "Now lets start to work out what the plaintext actually is. If we prepend 7 b'0's, then the 8th byte of the block will be the first byte of the plaintext:"
   ]
  },
  {
   "cell_type": "code",
   "execution_count": 26,
   "id": "52f9aa1b",
   "metadata": {},
   "outputs": [
    {
     "name": "stdout",
     "output_type": "stream",
     "text": [
      "b'=!t\\xe7\\xe0Q\\xcdX\\xf1\\xa2\\x85\\x82\\x1e@D\\x91'\n"
     ]
    }
   ],
   "source": [
    "malicious_block_1 = attack_ECB(b'0' * 15)[:16]\n",
    "print(malicious_block_1)"
   ]
  },
  {
   "cell_type": "code",
   "execution_count": 27,
   "id": "825b834b",
   "metadata": {},
   "outputs": [
    {
     "data": {
      "text/plain": [
       "b'R'"
      ]
     },
     "execution_count": 27,
     "metadata": {},
     "output_type": "execute_result"
    }
   ],
   "source": [
    "decryption_dictionary = {attack_ECB(b'0' * 15 + bytes([a]))[:16] : bytes([a]) for a in range(256)}\n",
    "decryption_dictionary[malicious_block_1]"
   ]
  },
  {
   "cell_type": "markdown",
   "id": "c0b5c669",
   "metadata": {},
   "source": [
    "And so we find the first byte of the plaintext! For the next one, the task is very similar: because we now know the first character, we can include it in our malicious plaintext, so that we're now investigating the second:"
   ]
  },
  {
   "cell_type": "code",
   "execution_count": 28,
   "id": "ab69f818",
   "metadata": {},
   "outputs": [
    {
     "name": "stdout",
     "output_type": "stream",
     "text": [
      "b'k\\xaeX\\xefN\\xa2:\\xc1P\\xb4\\xf6$\\xa3*\\xd1\\xc9'\n"
     ]
    }
   ],
   "source": [
    "malicious_block_2 = attack_ECB(b'0' * 14)[:16]\n",
    "print(malicious_block_2)"
   ]
  },
  {
   "cell_type": "code",
   "execution_count": 29,
   "id": "cebfdf4b",
   "metadata": {},
   "outputs": [
    {
     "data": {
      "text/plain": [
       "b'o'"
      ]
     },
     "execution_count": 29,
     "metadata": {},
     "output_type": "execute_result"
    }
   ],
   "source": [
    "decryption_dictionary = {attack_ECB(b'0' * 14 + b'R' + bytes([a]))[:16] : bytes([a]) for a in range(256)}\n",
    "decryption_dictionary[malicious_block_2]"
   ]
  },
  {
   "cell_type": "markdown",
   "id": "a5b8d71e",
   "metadata": {},
   "source": [
    "Let's extend and automate this for the entire first byte:"
   ]
  },
  {
   "cell_type": "code",
   "execution_count": 30,
   "id": "dc7e2830",
   "metadata": {},
   "outputs": [
    {
     "name": "stdout",
     "output_type": "stream",
     "text": [
      "b\"Rollin' in my 5.\"\n"
     ]
    }
   ],
   "source": [
    "known_bytes = b''\n",
    "for i in range(16):\n",
    "    malicious_block = attack_ECB(b'0' * (15-i))[:16]\n",
    "    decryption_dictionary = {attack_ECB(b'0' * (15-i) + known_bytes + bytes([a]))[:16] : bytes([a]) for a in range(256)}\n",
    "    known_bytes += decryption_dictionary[malicious_block]\n",
    "    \n",
    "print(known_bytes)"
   ]
  },
  {
   "cell_type": "markdown",
   "id": "0b78606d",
   "metadata": {},
   "source": [
    "Not bad. Now how do we extend this for the next block? We want to end up in a situation where we can test the bytes of the next block one at a time. So, we alter our padding so that i.e. the first byte of the second block falls as the last block of an encrpyted block, thus allowing us to guess its value using the dictionary comparison method above."
   ]
  },
  {
   "cell_type": "code",
   "execution_count": 31,
   "id": "e3252f04",
   "metadata": {},
   "outputs": [
    {
     "data": {
      "text/plain": [
       "b'\\xcf\\xc2\\x1cZpH\\x8a\\x8c%\\xebB\\x83\\xa2\\xe3\\xe5y'"
      ]
     },
     "execution_count": 31,
     "metadata": {},
     "output_type": "execute_result"
    }
   ],
   "source": [
    "attack_ECB(b'')[:16]"
   ]
  },
  {
   "cell_type": "code",
   "execution_count": 32,
   "id": "9568b26e",
   "metadata": {},
   "outputs": [
    {
     "data": {
      "text/plain": [
       "b'\\x02\\xdb\\x98E\\xfd|\\xd8\\x9f\\xba\\xcb\\xcek\\x0e\\xfa\\x8d\\xf0'"
      ]
     },
     "execution_count": 32,
     "metadata": {},
     "output_type": "execute_result"
    }
   ],
   "source": [
    "attack_ECB(b'0' * 15)[16:32]"
   ]
  },
  {
   "cell_type": "code",
   "execution_count": 33,
   "id": "28ae656e",
   "metadata": {},
   "outputs": [
    {
     "data": {
      "text/plain": [
       "b'0'"
      ]
     },
     "execution_count": 33,
     "metadata": {},
     "output_type": "execute_result"
    }
   ],
   "source": [
    "decryption_dictionary = {attack_ECB(b'0' * 15 + known_bytes + bytes([a]))[16:32] : bytes([a]) for a in range(256)}\n",
    "decryption_dictionary[attack_ECB(b'0' * 15)[16:32]]"
   ]
  },
  {
   "cell_type": "markdown",
   "id": "df9474bd",
   "metadata": {},
   "source": [
    "Nice! that works, so now we can move to automate this for the whole message. It's worth bearing in mind that we only ever need the 7 preceding bytes to the new character, so we don't need to feed in the whole of the decrypted message."
   ]
  },
  {
   "cell_type": "code",
   "execution_count": 34,
   "id": "549da278",
   "metadata": {},
   "outputs": [
    {
     "data": {
      "text/plain": [
       "(9, 0)"
      ]
     },
     "execution_count": 34,
     "metadata": {},
     "output_type": "execute_result"
    }
   ],
   "source": [
    "divmod(len(attack_ECB(b'')), 16)"
   ]
  },
  {
   "cell_type": "code",
   "execution_count": 35,
   "id": "83f218cf",
   "metadata": {},
   "outputs": [
    {
     "data": {
      "text/plain": [
       "[b'\\xcf\\xc2\\x1cZpH\\x8a\\x8c%\\xebB\\x83\\xa2\\xe3\\xe5y',\n",
       " b'D \\x0c,\"\\xc6O\\xb8\\xa9\\x12\\x10\\x8a\\xd5\\x15\\xce\\x99',\n",
       " b'\\x9e\\xd5p\\xe9\\xe7\\xd0,\\xa4\\x17\\xed\\x0e\\x8e*O5\\x0e',\n",
       " b'Li\\xed\\xab\\xa8\\x9a\\xba\\xbd\\x8f\\xa2\\xeb\\x1a\\xccu\\xc2\\x7f',\n",
       " b'y\\xc2\\xdc-\\xd1\\xbe\\xa5?\\xe8\\xcazp*9\\xe96',\n",
       " b'\\xbe\\x8d\\n\\x1f\\xb3Xb\\xf7\\xc6+v\\xffC\\x06:~',\n",
       " b'?\\x0f\\xf6\\x02\\x82so\\x8a\\xab(.\\xe5~\\xe7\\x00\\x1c',\n",
       " b'\\xab/\\xf6\\xbe\\xac~;w\\xc1\\xf5\\xce~\\xce|\\xd7*',\n",
       " b'&\\xcc\\xf3<\\x03,\\x8e\\x88\\xfe\\x87\\xc7\\x1fR\\xab\\xe9\\xff']"
      ]
     },
     "execution_count": 35,
     "metadata": {},
     "output_type": "execute_result"
    }
   ],
   "source": [
    "prev_block = known_bytes\n",
    "blocks(attack_ECB(b''))"
   ]
  },
  {
   "cell_type": "code",
   "execution_count": 36,
   "id": "d273d7f7",
   "metadata": {},
   "outputs": [
    {
     "name": "stdout",
     "output_type": "stream",
     "text": [
      "b'0\\nWith my rag-to'\n"
     ]
    }
   ],
   "source": [
    "known_bytes = b''\n",
    "for i in range(16):\n",
    "    malicious_block = attack_ECB(b'0' * (15-i))[16:32]\n",
    "    decryption_dictionary = {attack_ECB(b'0' * (15-i) + prev_block + known_bytes + bytes([a]))[16:32] : bytes([a]) for a in range(256)}\n",
    "    known_bytes += decryption_dictionary[malicious_block]\n",
    "    \n",
    "print(known_bytes)"
   ]
  },
  {
   "cell_type": "markdown",
   "id": "60179730",
   "metadata": {},
   "source": [
    "That looks like real progress. Now, let's wrap this all up in to loop over the blocks of the ciphertext:"
   ]
  },
  {
   "cell_type": "code",
   "execution_count": 37,
   "id": "37900776",
   "metadata": {},
   "outputs": [
    {
     "name": "stdout",
     "output_type": "stream",
     "text": [
      "b\"Rollin' in my 5.\"\n",
      "b'0\\nWith my rag-to'\n",
      "b'p down so my hai'\n",
      "b'r can blow\\nThe g'\n",
      "b'irlies on standb'\n",
      "b'y waving just to'\n",
      "b' say hi\\nDid you '\n",
      "b'stop? No, I just'\n"
     ]
    }
   ],
   "source": [
    "ciphertext = attack_ECB(b'')\n",
    "known_bytes = b\"Rollin' in my 5.\"\n",
    "prev_block = b\"Rollin' in my 5.\"\n",
    "for b in range(1, len(ciphertext) // 16):\n",
    "    print(prev_block)\n",
    "    for i in range(16):\n",
    "        malicious_block = attack_ECB(b'0' * (15-i))[16*b:16*(b+1)]\n",
    "        decryption_dictionary = {attack_ECB(b'0' * (15-i) + prev_block + known_bytes[b*16:] + bytes([a]))[16:32] : bytes([a]) for a in range(256)}\n",
    "        # print(decryption_dictionary[malicious_block])\n",
    "        known_bytes += decryption_dictionary[malicious_block]\n",
    "    prev_block = known_bytes[-16:]\n",
    "    # print(prev_block)"
   ]
  },
  {
   "cell_type": "code",
   "execution_count": 38,
   "id": "50ee5867",
   "metadata": {},
   "outputs": [
    {
     "name": "stdout",
     "output_type": "stream",
     "text": [
      "Rollin' in my 5.0\n",
      "With my rag-top down so my hair can blow\n",
      "The girlies on standby waving just to say hi\n",
      "Did you stop? No, I just drove by\n",
      "\u0006\u0006\u0006\u0006\u0006\u0006\n"
     ]
    }
   ],
   "source": [
    "print(known_bytes.decode())"
   ]
  },
  {
   "cell_type": "markdown",
   "id": "fcb24407",
   "metadata": {},
   "source": [
    "Nice. N.B. padding on the last block almost threw you off."
   ]
  },
  {
   "cell_type": "markdown",
   "id": "6260bbe9",
   "metadata": {},
   "source": [
    "## Task 13: *ECB cut-and-paste*"
   ]
  },
  {
   "cell_type": "code",
   "execution_count": 39,
   "id": "6b278c25",
   "metadata": {},
   "outputs": [],
   "source": [
    "def kvparse(cookie: str) -> dict:\n",
    "    pairs = [p.split(\"=\") for p in cookie.split(\"&\")]\n",
    "    return {k:v for k, v in pairs}"
   ]
  },
  {
   "cell_type": "code",
   "execution_count": 40,
   "id": "d447b387",
   "metadata": {},
   "outputs": [
    {
     "data": {
      "text/plain": [
       "{'foo': 'bar', 'baz': 'qux', 'zap': 'zazzle'}"
      ]
     },
     "execution_count": 40,
     "metadata": {},
     "output_type": "execute_result"
    }
   ],
   "source": [
    "kvparse('foo=bar&baz=qux&zap=zazzle')"
   ]
  },
  {
   "cell_type": "code",
   "execution_count": 41,
   "id": "339a1240",
   "metadata": {},
   "outputs": [],
   "source": [
    "USERS = randbelow(1000)"
   ]
  },
  {
   "cell_type": "code",
   "execution_count": 42,
   "id": "59b66637",
   "metadata": {},
   "outputs": [],
   "source": [
    "import warnings\n",
    "def make_profile(user: str) -> str:\n",
    "    if '=' in user or '&' in user:\n",
    "        warnings.warn(Warning(\"Encoding metacharacters used in user input, removing...\"))\n",
    "        return make_profile(user.replace(\"&\", \"\").replace(\"=\", \"\"))\n",
    "    global USERS\n",
    "    user_dict = {'email':user, 'ID':str(USERS), 'role':'user'}\n",
    "    keypairs = [k + '=' + v for k, v in user_dict.items()]\n",
    "    update_users()\n",
    "    return \"&\".join(keypairs)\n",
    "\n",
    "def update_users():\n",
    "    global USERS\n",
    "    # USERS += 1"
   ]
  },
  {
   "cell_type": "code",
   "execution_count": 43,
   "id": "ae1a1ea5",
   "metadata": {},
   "outputs": [],
   "source": [
    "AES_key = token_bytes(16)"
   ]
  },
  {
   "cell_type": "code",
   "execution_count": 44,
   "id": "58cb6dcb",
   "metadata": {},
   "outputs": [],
   "source": [
    "def profile_for(user: str) -> str:\n",
    "    global AES_key\n",
    "    return base64.b64encode(ECB_encrypt(make_profile(user).encode(), AES_key)).decode()"
   ]
  },
  {
   "cell_type": "code",
   "execution_count": 45,
   "id": "49970860",
   "metadata": {},
   "outputs": [
    {
     "data": {
      "text/plain": [
       "'tNe5bpEflPnnzVbBhW+rhbpwlKAeUV5DsCDnJOlG5u1TxOpr4w9Gqc6NZE3ANSrR'"
      ]
     },
     "execution_count": 45,
     "metadata": {},
     "output_type": "execute_result"
    }
   ],
   "source": [
    "profile_for('harry@fox.com')"
   ]
  },
  {
   "cell_type": "code",
   "execution_count": 46,
   "id": "ce7baaee",
   "metadata": {},
   "outputs": [],
   "source": [
    "def serverside(cookie: str) -> dict:\n",
    "    global AES_key\n",
    "    return kvparse(ECB_decrypt(base64.b64decode(cookie), AES_key).decode())"
   ]
  },
  {
   "cell_type": "code",
   "execution_count": 47,
   "id": "c064c422",
   "metadata": {},
   "outputs": [
    {
     "data": {
      "text/plain": [
       "{'email': 'harry@fox.com', 'ID': '967', 'role': 'user'}"
      ]
     },
     "execution_count": 47,
     "metadata": {},
     "output_type": "execute_result"
    }
   ],
   "source": [
    "serverside(profile_for('harry@fox.com'))"
   ]
  },
  {
   "cell_type": "markdown",
   "id": "5b197b07",
   "metadata": {},
   "source": [
    "With that background out of the way our goal is as follows: to make an admin profile by working out how its encrypted cookie must look. For now, let's freeze the USERS increment so that we only have 1 moving part to our equation. First, let's take a look at the encrypted cookie for 'eve@evil.net'."
   ]
  },
  {
   "cell_type": "code",
   "execution_count": 48,
   "id": "14f9d417",
   "metadata": {},
   "outputs": [
    {
     "data": {
      "text/plain": [
       "'uw8Q2YL9s8DF8BCc7SUwXm9wcuHAraab6g64btnUpFcBKBBzK7J6tQ9Wlu72Cx6e'"
      ]
     },
     "execution_count": 48,
     "metadata": {},
     "output_type": "execute_result"
    }
   ],
   "source": [
    "profile_for('eve@evil.net')"
   ]
  },
  {
   "cell_type": "markdown",
   "id": "79913904",
   "metadata": {},
   "source": [
    "Let's break down this cookie a little. The first bit of the first byte is the encrypted 'email' key, followed by an equals sign, and then the user input *that we control*. Subsequently, there is the ID, which contains some unknown number, and then the 'role' field. First of all, let's work out what the final byte of the cookie would look like, encrypted, if it begun exactly on user. Including the padding, this would be plaintext 'user\\x0c\\x0c\\x0c\\x0c\\x0c\\x0c\\x0c\\x0c\\x0c\\x0c\\x0c\\x0c', wich we can artificially place in the second byte of a dummy cookie like so:"
   ]
  },
  {
   "cell_type": "code",
   "execution_count": 49,
   "id": "cf0eb3f2",
   "metadata": {},
   "outputs": [
    {
     "data": {
      "text/plain": [
       "b'S\\xc4\\xeak\\xe3\\x0fF\\xa9\\xce\\x8ddM\\xc05*\\xd1'"
      ]
     },
     "execution_count": 49,
     "metadata": {},
     "output_type": "execute_result"
    }
   ],
   "source": [
    "user_suffix = base64.b64decode(profile_for('A' * 10 + 'user' + 12 * '\\x0c' + '@gmail.com'))[16:32]\n",
    "user_suffix"
   ]
  },
  {
   "cell_type": "markdown",
   "id": "7e918645",
   "metadata": {},
   "source": [
    "Check that this is *only* the stuff we want by modifying the 'A' to some other letter and the gmail hande to something else.\n",
    "\n",
    "Now, we want to make a cookie so that the above suffix is the whole of the last byte. We can achieve this by modifying the length of our user input until we get a collision:"
   ]
  },
  {
   "cell_type": "code",
   "execution_count": 53,
   "id": "ca0d800c",
   "metadata": {},
   "outputs": [
    {
     "name": "stdout",
     "output_type": "stream",
     "text": [
      "13\n"
     ]
    }
   ],
   "source": [
    "user_input = ''\n",
    "while len(user_input) < 20:\n",
    "    cookie = base64.b64decode(profile_for(user_input))\n",
    "    if user_suffix in cookie:\n",
    "        print(len(user_input))\n",
    "    user_input += 'A'"
   ]
  },
  {
   "cell_type": "markdown",
   "id": "2f32f7c7",
   "metadata": {},
   "source": [
    "So a length 13 input will give us the last byte in the correct place, ready to be swapped out. The last thing to do is to work out what to swap it out with:"
   ]
  },
  {
   "cell_type": "code",
   "execution_count": 54,
   "id": "ee24b3d1",
   "metadata": {},
   "outputs": [],
   "source": [
    "admin_suffix = base64.b64decode(profile_for('A' * 10 + 'admin' + 11 * '\\x0b' + '@gmail.com'))[16:32]"
   ]
  },
  {
   "cell_type": "markdown",
   "id": "2251c69c",
   "metadata": {},
   "source": [
    "Then finally we should be able to make a 13-character email which we can transform into an admin-permissioned cookie!"
   ]
  },
  {
   "cell_type": "code",
   "execution_count": 60,
   "id": "74fe23c0",
   "metadata": {},
   "outputs": [
    {
     "data": {
      "text/plain": [
       "{'email': 'eve@gmail.com', 'ID': '967', 'role': 'admin'}"
      ]
     },
     "execution_count": 60,
     "metadata": {},
     "output_type": "execute_result"
    }
   ],
   "source": [
    "prefix = base64.b64decode(profile_for(\"eve@gmail.com\"))[:-16]\n",
    "cookie = base64.b64encode(prefix + admin_suffix).decode()\n",
    "serverside(cookie)"
   ]
  },
  {
   "cell_type": "markdown",
   "id": "d8e1af6e",
   "metadata": {},
   "source": [
    "Nice!"
   ]
  },
  {
   "cell_type": "markdown",
   "id": "2619dfcb",
   "metadata": {},
   "source": [
    "## Task 14: *Byte-at-a-time ECB decryption (Harder)*"
   ]
  },
  {
   "cell_type": "code",
   "execution_count": null,
   "id": "704279dd",
   "metadata": {},
   "outputs": [],
   "source": []
  }
 ],
 "metadata": {
  "kernelspec": {
   "display_name": "Python 3 (ipykernel)",
   "language": "python",
   "name": "python3"
  },
  "language_info": {
   "codemirror_mode": {
    "name": "ipython",
    "version": 3
   },
   "file_extension": ".py",
   "mimetype": "text/x-python",
   "name": "python",
   "nbconvert_exporter": "python",
   "pygments_lexer": "ipython3",
   "version": "3.10.5"
  }
 },
 "nbformat": 4,
 "nbformat_minor": 5
}
