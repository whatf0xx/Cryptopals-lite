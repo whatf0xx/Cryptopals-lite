{
 "cells": [
  {
   "cell_type": "markdown",
   "metadata": {},
   "source": [
    "# Set 1: *Basics*"
   ]
  },
  {
   "cell_type": "markdown",
   "metadata": {},
   "source": [
    "## Task 1: *convert hex to base64*"
   ]
  },
  {
   "cell_type": "markdown",
   "metadata": {},
   "source": [
    "All the cryptography we'll do will be on raw bytes, but messages get sent around usually as hex- or base 64-encoded strings. Thus, converting between these is important, and we'll use the `base64` library to do so:"
   ]
  },
  {
   "cell_type": "code",
   "execution_count": 1,
   "metadata": {},
   "outputs": [],
   "source": [
    "input_hex = \"49276d206b696c6c696e6720796f757220627261696e206c696b65206120706f69736f6e6f7573206d757368726f6f6d\"\n",
    "correct_b64 = \"SSdtIGtpbGxpbmcgeW91ciBicmFpbiBsaWtlIGEgcG9pc29ub3VzIG11c2hyb29t\""
   ]
  },
  {
   "cell_type": "code",
   "execution_count": 2,
   "metadata": {},
   "outputs": [],
   "source": [
    "import base64\n",
    "encoded_str = base64.b16decode(input_hex, casefold=True)\n",
    "decoded_b64 = base64.b64encode(encoded_str).decode()"
   ]
  },
  {
   "cell_type": "markdown",
   "metadata": {},
   "source": [
    "*N.B. Cryptopals provide lower case hex encodings, hence the need for the* `casefold` *argument.*"
   ]
  },
  {
   "cell_type": "code",
   "execution_count": 3,
   "metadata": {},
   "outputs": [],
   "source": [
    "assert decoded_b64 == correct_b64"
   ]
  },
  {
   "cell_type": "markdown",
   "metadata": {},
   "source": [
    "Throughout these challenges the authors show a healthy obsession with 90s hip-hop music: decoding the above string to plaintext gives a hint of what is to come:"
   ]
  },
  {
   "cell_type": "code",
   "execution_count": 4,
   "metadata": {},
   "outputs": [
    {
     "name": "stdout",
     "output_type": "stream",
     "text": [
      "I'm killing your brain like a poisonous mushroom\n"
     ]
    }
   ],
   "source": [
    "print(encoded_str.decode())"
   ]
  },
  {
   "cell_type": "markdown",
   "metadata": {},
   "source": [
    "## Task 2: *Fixed XOR*"
   ]
  },
  {
   "cell_type": "code",
   "execution_count": 5,
   "metadata": {},
   "outputs": [],
   "source": [
    "input1 = \"1c0111001f010100061a024b53535009181c\"\n",
    "input2 = \"686974207468652062756c6c277320657965\"\n",
    "correct_output = \"746865206b696420646f6e277420706c6179\""
   ]
  },
  {
   "cell_type": "markdown",
   "metadata": {},
   "source": [
    "Python has a built-in type `bytes` which will prove super useful for almost all of the cryptography contained in these challenges. Annoyingly, however, `bytes` don't natively support the built-in `^` (bitwise XOR) which is also fairly fundamental. As such, we have to complicate things slightly when we want to use an XOR operation on `bytes` objects:"
   ]
  },
  {
   "cell_type": "code",
   "execution_count": 6,
   "metadata": {},
   "outputs": [],
   "source": [
    "enc1 = base64.b16decode(input1, casefold=True)\n",
    "enc2 = base64.b16decode(input2, casefold=True)\n",
    "xor_product = bytes(a ^ b for a, b in zip(enc1, enc2))\n",
    "xor_hex = base64.b16encode(xor_product).decode().lower()  # Cryptopals' lowercase hex"
   ]
  },
  {
   "cell_type": "markdown",
   "metadata": {},
   "source": [
    "This works because doing list operations on `bytes` treats them as lists of integers in the range (0, 255), hopefully for obvious reasons."
   ]
  },
  {
   "cell_type": "code",
   "execution_count": 7,
   "metadata": {},
   "outputs": [],
   "source": [
    "assert xor_hex == correct_output"
   ]
  },
  {
   "cell_type": "markdown",
   "metadata": {},
   "source": [
    "## Task 3: *Single-byte XOR cipher*"
   ]
  },
  {
   "cell_type": "markdown",
   "metadata": {},
   "source": [
    "Frequency analysis relies on having reliable information about the character frequencies of the plaintext language, so that we can compare the frequencies of trial decodings with the known values. Here, character frequencies obtained from scraping *The Lord Of The Rings* are used:"
   ]
  },
  {
   "cell_type": "code",
   "execution_count": 24,
   "metadata": {},
   "outputs": [],
   "source": [
    "english_chars = \"abcdefghijklmnopqrstuvwxyz\"\n",
    "frequency_dict = {c:0 for c in english_chars}\n",
    "with open(\"lotr.txt\", \"r\") as lotr_file:\n",
    "    total = 0  # counts the number of characters added to the whole dictionary\n",
    "    for line in lotr_file:\n",
    "        for c in line:\n",
    "            if c.lower() in english_chars:\n",
    "                frequency_dict[c.lower()] += 1\n",
    "                total += 1\n",
    "\n",
    "frequency_dict = {c:frequency_dict[c]/total for c in english_chars}  # divide for normalisation\n",
    "english_freqs = list(frequency_dict.values())"
   ]
  },
  {
   "cell_type": "markdown",
   "metadata": {},
   "source": [
    "The decryption then proceeds as follows:\n",
    "1. Decrypt the ciphertext against (XOR the whole text with) a single byte.\n",
    "2. Calculate the character frequencies for this decrpytion.\n",
    "3. Compare these character frequencies to the known character frequencies for the English language, using `scipy.chisquare`.\n",
    "4. Take the best match as the correct decryption."
   ]
  },
  {
   "cell_type": "code",
   "execution_count": 25,
   "metadata": {},
   "outputs": [],
   "source": [
    "ciphertext = base64.b16decode(\"1b37373331363f78151b7f2b783431333d78397828372d363c78373e783a393b3736\",\n",
    "                             casefold=True)"
   ]
  },
  {
   "cell_type": "code",
   "execution_count": 92,
   "metadata": {},
   "outputs": [],
   "source": [
    "from itertools import chain\n",
    "keys = [bytes(c, 'utf-8') for c in chain(english_chars, english_chars.upper())]  # key is a single character"
   ]
  },
  {
   "cell_type": "code",
   "execution_count": 93,
   "metadata": {},
   "outputs": [],
   "source": [
    "def single_byte_XOR(ptext: bytes, key: bytes) -> bytes:\n",
    "    return bytes(char ^ key[0] for char in ptext)"
   ]
  },
  {
   "cell_type": "code",
   "execution_count": 94,
   "metadata": {},
   "outputs": [],
   "source": [
    "def char_freqs(text: bytes) -> dict[str: float]:\n",
    "    english_chars = \"abcdefghijklmnopqrstuvwxyz\"\n",
    "    raw_counts = {char: text.count(bytes(char, 'utf-8')) for char in english_chars}\n",
    "    total = sum(raw_counts.values())\n",
    "    return list({char: raw_counts[char] / (total if total != 0 else 1) for char in english_chars}.values())"
   ]
  },
  {
   "cell_type": "code",
   "execution_count": 95,
   "metadata": {},
   "outputs": [],
   "source": [
    "from scipy import inf\n",
    "from scipy.stats import chisquare\n",
    "lowest_chi_sq, correct_key, ptext = inf, None, None"
   ]
  },
  {
   "cell_type": "code",
   "execution_count": 97,
   "metadata": {},
   "outputs": [],
   "source": [
    "for key in keys:\n",
    "    decrypt = single_byte_XOR(ciphertext, key)\n",
    "    obs_freqs = char_freqs(decrypt)\n",
    "    if all([freq == 0 for freq in obs_freqs]):  # if we recover no English characters, just skip the key\n",
    "        continue\n",
    "    ch_sq = chisquare(obs_freqs, english_freqs)[0]\n",
    "    if ch_sq < lowest_chi_sq:\n",
    "        lowest_chi_sq, correct_key, ptext = ch_sq, key, decrypt"
   ]
  },
  {
   "cell_type": "code",
   "execution_count": 100,
   "metadata": {},
   "outputs": [
    {
     "name": "stdout",
     "output_type": "stream",
     "text": [
      "b'X' Cooking MC's like a pound of bacon\n"
     ]
    }
   ],
   "source": [
    "print(correct_key, ptext.decode())"
   ]
  },
  {
   "cell_type": "markdown",
   "metadata": {},
   "source": [
    "Luckily, that worked first time. Sometimes, frequency analysis doesn't work so well, especially with shorter messages that contain few vowels or particularly few occurences of the letter 'e' (see above). In fact, if we extend our key space to all possible single byte keys, the above process will decide that `b'_'` is the correct key, with a Chi Square score of about 1.2 versus the 1.3 that we recover with `b'X'`, the correct key used above. In these cases, some more nuance is required; for natural language texts sometimes it's possible to also include the space character, ' ', as an allowed character, which always occurs with high frequency, although it's very easy to remove and retain meaning for a party that's in-t"
   ]
  },
  {
   "cell_type": "code",
   "execution_count": null,
   "metadata": {},
   "outputs": [],
   "source": []
  }
 ],
 "metadata": {
  "kernelspec": {
   "display_name": "cryptopals-venv",
   "language": "python",
   "name": "cryptopals-venv"
  },
  "language_info": {
   "codemirror_mode": {
    "name": "ipython",
    "version": 3
   },
   "file_extension": ".py",
   "mimetype": "text/x-python",
   "name": "python",
   "nbconvert_exporter": "python",
   "pygments_lexer": "ipython3",
   "version": "3.10.6"
  }
 },
 "nbformat": 4,
 "nbformat_minor": 2
}
