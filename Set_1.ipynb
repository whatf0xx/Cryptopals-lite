{
 "cells": [
  {
   "cell_type": "markdown",
   "metadata": {},
   "source": [
    "# Set 1"
   ]
  },
  {
   "cell_type": "markdown",
   "metadata": {},
   "source": [
    "## Task 1: *convert hex to base64*"
   ]
  },
  {
   "cell_type": "code",
   "execution_count": 24,
   "metadata": {},
   "outputs": [],
   "source": [
    "input_hex = \"49276d206b696c6c696e6720796f757220627261696e206c696b65206120706f69736f6e6f7573206d757368726f6f6d\""
   ]
  },
  {
   "cell_type": "code",
   "execution_count": 26,
   "metadata": {},
   "outputs": [
    {
     "name": "stdout",
     "output_type": "stream",
     "text": [
      "b\"I'm killing your brain like a poisonous mushroom\"\n"
     ]
    }
   ],
   "source": [
    "import base64\n",
    "print(input_bytes := base64.b16decode(input_hex, casefold=True))"
   ]
  },
  {
   "cell_type": "code",
   "execution_count": 31,
   "metadata": {},
   "outputs": [
    {
     "name": "stdout",
     "output_type": "stream",
     "text": [
      "Task 1 passed successfully!\n"
     ]
    }
   ],
   "source": [
    "output_b64 = base64.b64encode(input_bytes).decode()\n",
    "correct_output = \"SSdtIGtpbGxpbmcgeW91ciBicmFpbiBsaWtlIGEgcG9pc29ub3VzIG11c2hyb29t\"\n",
    "if correct_output == output_b64:\n",
    "    print(\"Task 1 passed successfully!\")"
   ]
  },
  {
   "cell_type": "markdown",
   "metadata": {},
   "source": [
    "## Task 2: *Fixed XOR*"
   ]
  },
  {
   "cell_type": "code",
   "execution_count": 32,
   "metadata": {},
   "outputs": [],
   "source": [
    "a = \"1c0111001f010100061a024b53535009181c\"\n",
    "b = \"686974207468652062756c6c277320657965\""
   ]
  },
  {
   "cell_type": "markdown",
   "metadata": {},
   "source": [
    "Time to get familiar with a great quirk of Python: bit-wise operations take place on *integers*, not on *bytes* objects! So we have to take the input bytes, read them as integers and then get back to hex to check the result."
   ]
  },
  {
   "cell_type": "code",
   "execution_count": 40,
   "metadata": {},
   "outputs": [
    {
     "name": "stdout",
     "output_type": "stream",
     "text": [
      "746865206b696420646f6e277420706c6179\n"
     ]
    }
   ],
   "source": [
    "int_a = int(a, 16)\n",
    "int_b = int(b, 16)\n",
    "result = hex(int_a ^ int_b)[2:]"
   ]
  },
  {
   "cell_type": "markdown",
   "metadata": {},
   "source": [
    "Here, the slicing on the string is to remove the characters that Python naturally adds to the front to let us know this is a hex-encoded string."
   ]
  },
  {
   "cell_type": "code",
   "execution_count": 41,
   "metadata": {},
   "outputs": [
    {
     "name": "stdout",
     "output_type": "stream",
     "text": [
      "Task 2 passed successfully!\n"
     ]
    }
   ],
   "source": [
    "correct_output = \"746865206b696420646f6e277420706c6179\"\n",
    "if correct_output == result:\n",
    "    print(\"Task 2 passed successfully!\")\n"
   ]
  },
  {
   "cell_type": "markdown",
   "metadata": {},
   "source": [
    "## Task 3: *Single-byte XOR cipher*"
   ]
  },
  {
   "cell_type": "markdown",
   "metadata": {},
   "source": [
    "The first step is to work out what a good English-language plaintext should look like. We can do this by sampling from somethiing like \"The Lord of the Rings\" to get a Dictionary of letter frequencies:"
   ]
  },
  {
   "cell_type": "code",
   "execution_count": 7,
   "metadata": {},
   "outputs": [
    {
     "name": "stdout",
     "output_type": "stream",
     "text": [
      "{'a': 0.0631495689263029, 'b': 0.012904205449377615, 'c': 0.012387804122339521, 'd': 0.039675810045899824, 'e': 0.09336730250401223, 'f': 0.01811969697116862, 'g': 0.018872444987070542, 'h': 0.050483652741314014, 'i': 0.046955288062905776, 'j': 0.000668245980568417, 'k': 0.007006546155756353, 'l': 0.033543422876352154, 'm': 0.017975622619737928, 'n': 0.052605268977101244, 'o': 0.05926312282613658, 'p': 0.009846591573172126, 'q': 0.0004276903780672863, 'r': 0.04429007444273174, 's': 0.04539572367899199, 't': 0.06812515237076773, 'u': 0.02009464875482528, 'v': 0.0061498703492718415, 'w': 0.020826999727715664, 'x': 0.0003713556878449488, 'y': 0.01481893739176212, 'z': 0.00032117248678482056, ' ': 0.24235377991202076}\n",
      "The total of the normalised frequencies sum to 1.0\n"
     ]
    }
   ],
   "source": [
    "english_chars = \"abcdefghijklmnopqrstuvwxyz \"\n",
    "frequency_dict = {c:0 for c in english_chars}\n",
    "with open(\"lotr.txt\", \"r\") as lotr_file:\n",
    "    total = 0\n",
    "    for line in lotr_file:\n",
    "        for c in line:\n",
    "            if c.lower() in english_chars:\n",
    "                frequency_dict[c.lower()] += 1\n",
    "                total += 1\n",
    "\n",
    "print(frequency_dict := {c:frequency_dict[c]/total for c in english_chars})\n",
    "print(f\"The total of the normalised frequencies sum to {sum(frequency_dict.values())}\")"
   ]
  },
  {
   "cell_type": "markdown",
   "metadata": {},
   "source": [
    "Now, we can loop over the characters in *english_chars* and do the following:\n",
    "1. generate the *XOR_combo* of that character with the given ciphertext;\n",
    "2. compare, using *SciPy*'s built-in *chisquare* test, the letter frequencies recorded for the 'decoded' text with the letter frequencies from \"The Lord of the Rings\";\n",
    "\n",
    "and consequently pick the one with the lowest Chi-Square score to be the correct plaintext!\n",
    "\n",
    "First, we need to get *SciPy*'s *chisquare* function:"
   ]
  },
  {
   "cell_type": "code",
   "execution_count": 8,
   "metadata": {},
   "outputs": [],
   "source": [
    "from scipy.stats import chisquare"
   ]
  },
  {
   "cell_type": "markdown",
   "metadata": {},
   "source": [
    "Now we want to decipher the ciphertext, given below as a hex-encoded string:"
   ]
  },
  {
   "cell_type": "code",
   "execution_count": 13,
   "metadata": {},
   "outputs": [],
   "source": [
    "ciphertext = \"1b37373331363f78151b7f2b783431333d78397828372d363c78373e783a393b3736\""
   ]
  },
  {
   "cell_type": "code",
   "execution_count": 23,
   "metadata": {},
   "outputs": [
    {
     "name": "stdout",
     "output_type": "stream",
     "text": [
      "The key was 'x', with a Chi-Square value of 2691.836\n",
      "The corresponding plaintext was:\n",
      "cOOKING\u0000mc\u0007S\u0000LIKE\u0000A\u0000POUND\u0000OF\u0000BACON\n"
     ]
    }
   ],
   "source": [
    "inf_ch_sq = 1000\n",
    "best_decipher = None\n",
    "key = None\n",
    "for c in english_chars:\n",
    "    total = 0\n",
    "    local_dict = {a:0 for a in english_chars}\n",
    "    XOR_text = functions.hex_to_string(functions.single_byte_XOR(functions.hex_to_string(ciphertext), c))\n",
    "    for d in XOR_text:\n",
    "        if d.lower() in english_chars:\n",
    "            local_dict[d.lower()] += 1\n",
    "            total += 1\n",
    "    local_dict = {c:local_dict[c]/total for c in english_chars}\n",
    "    ch_sq = chisquare(list(local_dict.values()), list(frequency_dict.values()))[0]\n",
    "    if ch_sq < inf_ch_sq:\n",
    "        inf_ch_sq = ch_sq\n",
    "        best_decipher = XOR_text\n",
    "        key = c\n",
    "\n",
    "print(f\"The key was '{key}', with a Chi-Square value of {ch_sq:.3f}\")\n",
    "print(\"The corresponding plaintext was:\")\n",
    "print(best_decipher)    "
   ]
  },
  {
   "cell_type": "code",
   "execution_count": 11,
   "metadata": {},
   "outputs": [
    {
     "data": {
      "text/plain": [
       "<module 'functions' from 'c:\\\\Users\\\\whatf\\\\OneDrive\\\\Desktop\\\\Cryptopals-lite\\\\functions.py'>"
      ]
     },
     "execution_count": 11,
     "metadata": {},
     "output_type": "execute_result"
    }
   ],
   "source": [
    "import importlib\n",
    "importlib.reload(functions)"
   ]
  },
  {
   "cell_type": "code",
   "execution_count": null,
   "metadata": {},
   "outputs": [],
   "source": []
  }
 ],
 "metadata": {
  "kernelspec": {
   "display_name": "Python 3.10.5 ('env': venv)",
   "language": "python",
   "name": "python3"
  },
  "language_info": {
   "codemirror_mode": {
    "name": "ipython",
    "version": 3
   },
   "file_extension": ".py",
   "mimetype": "text/x-python",
   "name": "python",
   "nbconvert_exporter": "python",
   "pygments_lexer": "ipython3",
   "version": "3.10.5"
  },
  "orig_nbformat": 4,
  "vscode": {
   "interpreter": {
    "hash": "c2bea6e0d28d6621ea549dc3ef82e91574104eeb14bffa1cd5c6b75f66735ec7"
   }
  }
 },
 "nbformat": 4,
 "nbformat_minor": 2
}
