{
 "cells": [
  {
   "cell_type": "code",
   "execution_count": 7,
   "metadata": {},
   "outputs": [],
   "source": [
    "import functions"
   ]
  },
  {
   "cell_type": "markdown",
   "metadata": {},
   "source": [
    "# Set 1"
   ]
  },
  {
   "cell_type": "markdown",
   "metadata": {},
   "source": [
    "## Task 1: *convert hex to base64*"
   ]
  },
  {
   "cell_type": "code",
   "execution_count": 8,
   "metadata": {},
   "outputs": [
    {
     "name": "stdout",
     "output_type": "stream",
     "text": [
      "SSdtIGtpbGxpbmcgeW91ciBicmFpbiBsaWtlIGEgcG9pc29ub3VzIG11c2hyb29t\n"
     ]
    }
   ],
   "source": [
    "input_hex = \"49276d206b696c6c696e6720796f757220627261696e206c696b65206120706f69736f6e6f7573206d757368726f6f6d\"\n",
    "print(output_b64 := functions.hex_to_base64(input_hex))"
   ]
  },
  {
   "cell_type": "code",
   "execution_count": 9,
   "metadata": {},
   "outputs": [
    {
     "name": "stdout",
     "output_type": "stream",
     "text": [
      "Task 1 passed successfully!\n"
     ]
    }
   ],
   "source": [
    "correct_output = \"SSdtIGtpbGxpbmcgeW91ciBicmFpbiBsaWtlIGEgcG9pc29ub3VzIG11c2hyb29t\"\n",
    "if correct_output == output_b64:\n",
    "    print(\"Task 1 passed successfully!\")"
   ]
  },
  {
   "cell_type": "markdown",
   "metadata": {},
   "source": [
    "## Task 2: *Fixed XOR*"
   ]
  },
  {
   "cell_type": "code",
   "execution_count": 10,
   "metadata": {},
   "outputs": [
    {
     "name": "stdout",
     "output_type": "stream",
     "text": [
      "746865206b696420646f6e277420706c6179\n"
     ]
    }
   ],
   "source": [
    "a = \"1c0111001f010100061a024b53535009181c\"\n",
    "b = \"686974207468652062756c6c277320657965\"\n",
    "print(result := functions.XOR_combo(a, b))"
   ]
  },
  {
   "cell_type": "code",
   "execution_count": 11,
   "metadata": {},
   "outputs": [
    {
     "name": "stdout",
     "output_type": "stream",
     "text": [
      "Task 2 passed successfully!\n"
     ]
    }
   ],
   "source": [
    "correct_output = \"746865206b696420646f6e277420706c6179\"\n",
    "if correct_output == result:\n",
    "    print(\"Task 2 passed successfully!\")\n"
   ]
  },
  {
   "cell_type": "markdown",
   "metadata": {},
   "source": [
    "## Task 3: *Single-byte XOR cipher*"
   ]
  },
  {
   "cell_type": "markdown",
   "metadata": {},
   "source": [
    "The first step is to work out what a good English-language plaintext should look like. We can do this by sampling from somethiing like \"The Lord of the Rings\" to get a Dictionary of letter frequencies:"
   ]
  },
  {
   "cell_type": "code",
   "execution_count": 22,
   "metadata": {},
   "outputs": [
    {
     "name": "stdout",
     "output_type": "stream",
     "text": [
      "{'a': 0.0631495689263029, 'b': 0.012904205449377615, 'c': 0.012387804122339521, 'd': 0.039675810045899824, 'e': 0.09336730250401223, 'f': 0.01811969697116862, 'g': 0.018872444987070542, 'h': 0.050483652741314014, 'i': 0.046955288062905776, 'j': 0.000668245980568417, 'k': 0.007006546155756353, 'l': 0.033543422876352154, 'm': 0.017975622619737928, 'n': 0.052605268977101244, 'o': 0.05926312282613658, 'p': 0.009846591573172126, 'q': 0.0004276903780672863, 'r': 0.04429007444273174, 's': 0.04539572367899199, 't': 0.06812515237076773, 'u': 0.02009464875482528, 'v': 0.0061498703492718415, 'w': 0.020826999727715664, 'x': 0.0003713556878449488, 'y': 0.01481893739176212, 'z': 0.00032117248678482056, ' ': 0.24235377991202076}\n",
      "The total of the normalised frequencies sum to 1.0\n"
     ]
    }
   ],
   "source": [
    "english_chars = \"abcdefghijklmnopqrstuvwxyz \"\n",
    "frequency_dict = {c:0 for c in english_chars}\n",
    "with open(\"lotr.txt\", \"r\") as lotr_file:\n",
    "    total = 0\n",
    "    for line in lotr_file:\n",
    "        for c in line:\n",
    "            if c.lower() in english_chars:\n",
    "                frequency_dict[c.lower()] += 1\n",
    "                total += 1\n",
    "\n",
    "print(frequency_dict := {c:frequency_dict[c]/total for c in english_chars})\n",
    "print(f\"The total of the normalised frequencies sum to {sum(frequency_dict.values())}\")"
   ]
  },
  {
   "cell_type": "markdown",
   "metadata": {},
   "source": [
    "Now, we can loop over the characters in *english_chars* and do the following:\n",
    "1. generate the *XOR_combo* of that character with the given ciphertext;\n",
    "2. compare, using *SciPy*'s built-in *chisquare* test, the letter frequencies recorded for the 'decoded' text with the letter frequencies from \"The Lord of the Rings\";\n",
    "\n",
    "and consequently pick the one with the lowest Chi-Square score to be the correct plaintext!\n",
    "\n",
    "First, we need to get *SciPy*'s *chisquare* function:"
   ]
  },
  {
   "cell_type": "code",
   "execution_count": 28,
   "metadata": {},
   "outputs": [],
   "source": [
    "from scipy.stats import chisquare"
   ]
  },
  {
   "cell_type": "markdown",
   "metadata": {},
   "source": [
    "Now we want to decipher the ciphertext, given below as a hex-encoded string:"
   ]
  },
  {
   "cell_type": "code",
   "execution_count": 32,
   "metadata": {},
   "outputs": [],
   "source": [
    "ciphertext = \"1b37373331363f78151b7f2b783431333d78397828372d363c78373e783a393b3736\""
   ]
  },
  {
   "cell_type": "code",
   "execution_count": 40,
   "metadata": {},
   "outputs": [
    {
     "ename": "ValueError",
     "evalue": "invalid literal for int() with base 16: 'gggggggggggggggggggggggggggggggggggggggggggggggggggggggggggggggggggg'",
     "output_type": "error",
     "traceback": [
      "\u001b[1;31m---------------------------------------------------------------------------\u001b[0m",
      "\u001b[1;31mValueError\u001b[0m                                Traceback (most recent call last)",
      "\u001b[1;32mc:\\Users\\whatf\\OneDrive\\Desktop\\Cryptopals-lite\\tasks.ipynb Cell 16\u001b[0m in \u001b[0;36m<cell line: 3>\u001b[1;34m()\u001b[0m\n\u001b[0;32m      <a href='vscode-notebook-cell:/c%3A/Users/whatf/OneDrive/Desktop/Cryptopals-lite/tasks.ipynb#ch0000022?line=3'>4</a>\u001b[0m total \u001b[39m=\u001b[39m \u001b[39m0\u001b[39m\n\u001b[0;32m      <a href='vscode-notebook-cell:/c%3A/Users/whatf/OneDrive/Desktop/Cryptopals-lite/tasks.ipynb#ch0000022?line=4'>5</a>\u001b[0m local_dict \u001b[39m=\u001b[39m {a:\u001b[39m0\u001b[39m \u001b[39mfor\u001b[39;00m a \u001b[39min\u001b[39;00m english_chars}\n\u001b[1;32m----> <a href='vscode-notebook-cell:/c%3A/Users/whatf/OneDrive/Desktop/Cryptopals-lite/tasks.ipynb#ch0000022?line=5'>6</a>\u001b[0m XOR_text \u001b[39m=\u001b[39m functions\u001b[39m.\u001b[39;49msingle_byte_XOR(ciphertext, c)\n\u001b[0;32m      <a href='vscode-notebook-cell:/c%3A/Users/whatf/OneDrive/Desktop/Cryptopals-lite/tasks.ipynb#ch0000022?line=6'>7</a>\u001b[0m \u001b[39mfor\u001b[39;00m d \u001b[39min\u001b[39;00m XOR_text:\n\u001b[0;32m      <a href='vscode-notebook-cell:/c%3A/Users/whatf/OneDrive/Desktop/Cryptopals-lite/tasks.ipynb#ch0000022?line=7'>8</a>\u001b[0m     \u001b[39mif\u001b[39;00m d\u001b[39m.\u001b[39mlower() \u001b[39min\u001b[39;00m english_chars:\n",
      "File \u001b[1;32mc:\\Users\\whatf\\OneDrive\\Desktop\\Cryptopals-lite\\functions.py:18\u001b[0m, in \u001b[0;36msingle_byte_XOR\u001b[1;34m(a, character)\u001b[0m\n\u001b[0;32m     15\u001b[0m     \u001b[39mraise\u001b[39;00m \u001b[39mValueError\u001b[39;00m(\u001b[39mf\u001b[39m\u001b[39m\"\u001b[39m\u001b[39mcharacter (\u001b[39m\u001b[39m'\u001b[39m\u001b[39m{\u001b[39;00mcharacter\u001b[39m}\u001b[39;00m\u001b[39m'\u001b[39m\u001b[39m) not a single byte\u001b[39m\u001b[39m\"\u001b[39m)\n\u001b[0;32m     17\u001b[0m buffer \u001b[39m=\u001b[39m character \u001b[39m*\u001b[39m \u001b[39mlen\u001b[39m(a)\n\u001b[1;32m---> 18\u001b[0m \u001b[39mreturn\u001b[39;00m XOR_combo(a, buffer)\n",
      "File \u001b[1;32mc:\\Users\\whatf\\OneDrive\\Desktop\\Cryptopals-lite\\functions.py:10\u001b[0m, in \u001b[0;36mXOR_combo\u001b[1;34m(a, b)\u001b[0m\n\u001b[0;32m      8\u001b[0m \u001b[39mdef\u001b[39;00m \u001b[39mXOR_combo\u001b[39m(a: \u001b[39mstr\u001b[39m, b: \u001b[39mstr\u001b[39m) \u001b[39m-\u001b[39m\u001b[39m>\u001b[39m \u001b[39mstr\u001b[39m:\n\u001b[0;32m      9\u001b[0m     a_int \u001b[39m=\u001b[39m \u001b[39mint\u001b[39m(a, \u001b[39m16\u001b[39m)\n\u001b[1;32m---> 10\u001b[0m     b_int \u001b[39m=\u001b[39m \u001b[39mint\u001b[39;49m(b, \u001b[39m16\u001b[39;49m)\n\u001b[0;32m     11\u001b[0m     \u001b[39mreturn\u001b[39;00m \u001b[39mhex\u001b[39m(a_int \u001b[39m^\u001b[39m b_int)[\u001b[39m2\u001b[39m:]\n",
      "\u001b[1;31mValueError\u001b[0m: invalid literal for int() with base 16: 'gggggggggggggggggggggggggggggggggggggggggggggggggggggggggggggggggggg'"
     ]
    }
   ],
   "source": [
    "inf_ch_sq = 1000\n",
    "best_decipher = None\n",
    "for c in english_chars:\n",
    "    total = 0\n",
    "    local_dict = {a:0 for a in english_chars}\n",
    "    XOR_text = functions.single_byte_XOR(ciphertext, c)\n",
    "    for d in XOR_text:\n",
    "        if d.lower() in english_chars:\n",
    "            local_dict[d] += 1\n",
    "            total += 1\n",
    "    local_dict = {c:local_dict[c]/total for c in english_chars}\n",
    "    ch_sq = chisquare(list(local_dict.values()), list(frequency_dict.values()))[0]\n",
    "    if ch_sq < inf_ch_sq:\n",
    "        inf_ch_sq = ch_sq\n",
    "        best_decipher = XOR_text\n",
    "\n",
    "print(best_decipher)    "
   ]
  },
  {
   "cell_type": "code",
   "execution_count": 30,
   "metadata": {},
   "outputs": [
    {
     "data": {
      "text/plain": [
       "<module 'functions' from 'c:\\\\Users\\\\whatf\\\\OneDrive\\\\Desktop\\\\Cryptopals-lite\\\\functions.py'>"
      ]
     },
     "execution_count": 30,
     "metadata": {},
     "output_type": "execute_result"
    }
   ],
   "source": [
    "import importlib\n",
    "importlib.reload(functions)"
   ]
  },
  {
   "cell_type": "code",
   "execution_count": null,
   "metadata": {},
   "outputs": [],
   "source": []
  }
 ],
 "metadata": {
  "kernelspec": {
   "display_name": "Python 3.10.5 ('env': venv)",
   "language": "python",
   "name": "python3"
  },
  "language_info": {
   "codemirror_mode": {
    "name": "ipython",
    "version": 3
   },
   "file_extension": ".py",
   "mimetype": "text/x-python",
   "name": "python",
   "nbconvert_exporter": "python",
   "pygments_lexer": "ipython3",
   "version": "3.10.5"
  },
  "orig_nbformat": 4,
  "vscode": {
   "interpreter": {
    "hash": "c2bea6e0d28d6621ea549dc3ef82e91574104eeb14bffa1cd5c6b75f66735ec7"
   }
  }
 },
 "nbformat": 4,
 "nbformat_minor": 2
}
