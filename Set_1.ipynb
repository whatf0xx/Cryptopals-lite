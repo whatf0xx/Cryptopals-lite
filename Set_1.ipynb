{
 "cells": [
  {
   "cell_type": "markdown",
   "metadata": {},
   "source": [
    "# Set 1"
   ]
  },
  {
   "cell_type": "markdown",
   "metadata": {},
   "source": [
    "## Task 1: *convert hex to base64*"
   ]
  },
  {
   "cell_type": "code",
   "execution_count": 393,
   "metadata": {},
   "outputs": [],
   "source": [
    "input_hex = \"49276d206b696c6c696e6720796f757220627261696e206c696b65206120706f69736f6e6f7573206d757368726f6f6d\""
   ]
  },
  {
   "cell_type": "code",
   "execution_count": 394,
   "metadata": {},
   "outputs": [
    {
     "name": "stdout",
     "output_type": "stream",
     "text": [
      "b\"I'm killing your brain like a poisonous mushroom\"\n"
     ]
    }
   ],
   "source": [
    "import base64\n",
    "print(input_bytes := base64.b16decode(input_hex, casefold=True))"
   ]
  },
  {
   "cell_type": "code",
   "execution_count": 395,
   "metadata": {},
   "outputs": [
    {
     "name": "stdout",
     "output_type": "stream",
     "text": [
      "Task 1 passed successfully!\n"
     ]
    }
   ],
   "source": [
    "output_b64 = base64.b64encode(input_bytes).decode()\n",
    "correct_output = \"SSdtIGtpbGxpbmcgeW91ciBicmFpbiBsaWtlIGEgcG9pc29ub3VzIG11c2hyb29t\"\n",
    "if correct_output == output_b64:\n",
    "    print(\"Task 1 passed successfully!\")"
   ]
  },
  {
   "cell_type": "markdown",
   "metadata": {},
   "source": [
    "## Task 2: *Fixed XOR*"
   ]
  },
  {
   "cell_type": "code",
   "execution_count": 396,
   "metadata": {},
   "outputs": [],
   "source": [
    "a = \"1c0111001f010100061a024b53535009181c\"\n",
    "b = \"686974207468652062756c6c277320657965\""
   ]
  },
  {
   "cell_type": "markdown",
   "metadata": {},
   "source": [
    "Time to get familiar with a great quirk of Python: bit-wise operations take place on *integers*, not on *bytes* objects! So we have to take the input bytes, read them as integers and then get back to hex to check the result."
   ]
  },
  {
   "cell_type": "code",
   "execution_count": 397,
   "metadata": {},
   "outputs": [],
   "source": [
    "int_a = int(a, 16)\n",
    "int_b = int(b, 16)\n",
    "result = hex(int_a ^ int_b)[2:]"
   ]
  },
  {
   "cell_type": "markdown",
   "metadata": {},
   "source": [
    "Here, the slicing on the string is to remove the characters that Python naturally adds to the front to let us know this is a hex-encoded string."
   ]
  },
  {
   "cell_type": "code",
   "execution_count": 398,
   "metadata": {},
   "outputs": [
    {
     "name": "stdout",
     "output_type": "stream",
     "text": [
      "Task 2 passed successfully!\n"
     ]
    }
   ],
   "source": [
    "correct_output = \"746865206b696420646f6e277420706c6179\"\n",
    "if correct_output == result:\n",
    "    print(\"Task 2 passed successfully!\")\n"
   ]
  },
  {
   "cell_type": "markdown",
   "metadata": {},
   "source": [
    "## Task 3: *Single-byte XOR cipher*"
   ]
  },
  {
   "cell_type": "markdown",
   "metadata": {},
   "source": [
    "The first step is to work out what a good English-language plaintext should look like. We can do this by sampling from something like \"The Lord of the Rings\" to get a Dictionary of letter frequencies:"
   ]
  },
  {
   "cell_type": "code",
   "execution_count": 399,
   "metadata": {},
   "outputs": [],
   "source": [
    "english_chars = \"abcdefghijklmnopqrstuvwxyz \"\n",
    "frequency_dict = {c:0 for c in english_chars}\n",
    "with open(\"lotr.txt\", \"r\") as lotr_file:\n",
    "    total = 0\n",
    "    for line in lotr_file:\n",
    "        for c in line:\n",
    "            if c.lower() in english_chars:\n",
    "                frequency_dict[c.lower()] += 1\n",
    "                total += 1\n",
    "\n",
    "frequency_dict = {c:frequency_dict[c]/total for c in english_chars}"
   ]
  },
  {
   "cell_type": "markdown",
   "metadata": {},
   "source": [
    "Now, we can loop over the characters in *english_chars* and do the following:\n",
    "1. generate the XOR of that character with the given ciphertext;\n",
    "2. compare, using *SciPy*'s built-in *chisquare* test, the letter frequencies recorded for the 'decoded' text with the letter frequencies from \"The Lord of the Rings\";\n",
    "\n",
    "and consequently pick the one with the lowest Chi-Square score to be the correct plaintext!\n",
    "\n",
    "First, we need to get *SciPy*'s *chisquare* function, and can set out some variables for later use:"
   ]
  },
  {
   "cell_type": "code",
   "execution_count": 400,
   "metadata": {},
   "outputs": [],
   "source": [
    "from scipy.stats import chisquare\n",
    "\n",
    "inf_ch_sq = 1000\n",
    "best_decipher = None\n",
    "key = None"
   ]
  },
  {
   "cell_type": "markdown",
   "metadata": {},
   "source": [
    "Now we want to decipher the ciphertext, given below as a hex-encoded string:"
   ]
  },
  {
   "cell_type": "code",
   "execution_count": 401,
   "metadata": {},
   "outputs": [],
   "source": [
    "ciphertext = \"1b37373331363f78151b7f2b783431333d78397828372d363c78373e783a393b3736\"\n",
    "int_ciphertext = int(ciphertext, 16)\n",
    "buffer_length = len(ciphertext) // 2"
   ]
  },
  {
   "cell_type": "code",
   "execution_count": 402,
   "metadata": {},
   "outputs": [
    {
     "name": "stdout",
     "output_type": "stream",
     "text": [
      "The key was 'X', with a Chi-Square value of 6.94\n",
      "The corresponding plaintext was:\n",
      "Cooking MC's like a pound of bacon\n"
     ]
    }
   ],
   "source": [
    "keys = \"ABCDEFGHIJKLMNOPQRSTUVWXYZabcdefghijklmnopqrstuvwxyz\"\n",
    "for c in keys:\n",
    "    total = 0\n",
    "    local_dict = {a:0 for a in english_chars}\n",
    "\n",
    "    buffer = base64.b16encode(c.encode()) * buffer_length\n",
    "    int_buffer = int(buffer.decode(), 16)\n",
    "\n",
    "    hex_XOR = hex(int_ciphertext ^ int_buffer)[2:]\n",
    "    XOR_text = base64.b16decode(hex_XOR, casefold=True).decode()\n",
    "    \n",
    "    for d in XOR_text:\n",
    "        if d.lower() in english_chars:\n",
    "            local_dict[d.lower()] += 1\n",
    "            total += 1\n",
    "    local_dict = {c:local_dict[c]/total for c in english_chars}\n",
    "    ch_sq = chisquare(list(local_dict.values()), list(frequency_dict.values()))[0]\n",
    "    if ch_sq < inf_ch_sq:\n",
    "        inf_ch_sq = ch_sq\n",
    "        best_decipher = XOR_text\n",
    "        key = c\n",
    "\n",
    "print(f\"The key was '{key}', with a Chi-Square value of {ch_sq:.2f}\")\n",
    "print(\"The corresponding plaintext was:\")\n",
    "print(best_decipher)    "
   ]
  },
  {
   "cell_type": "markdown",
   "metadata": {},
   "source": [
    "That concludes task 3! (N.B. 'ETAOIN SHRDLU' is a phrase that occasionally popped up in old newspaper misprints, and is a reference to things that look like total gibberish.)"
   ]
  },
  {
   "cell_type": "markdown",
   "metadata": {},
   "source": [
    "## Task 4: *Detect single-character XOR*"
   ]
  },
  {
   "cell_type": "markdown",
   "metadata": {},
   "source": [
    "We have a file of hex-encoded strings, one of which is encrypted with a single-byte XOR mask. We can use the same code as for Task 3 to decrypt the strings, and keep any that have a Chi Square coefficient of less than, say, 10, and at least 25 viable letters.\n",
    "\n",
    "We also need to give some thought to possible keys: whereas above, letters of the alphabet sufficed, here we need to be broader, and consider all possible single-byte keys, i.e. the integers 0 to 255."
   ]
  },
  {
   "cell_type": "code",
   "execution_count": 403,
   "metadata": {},
   "outputs": [],
   "source": [
    "keys = [\"0\" * (2-len(hex(a)[2:])) + hex(a)[2:] for a in range(256)]"
   ]
  },
  {
   "cell_type": "code",
   "execution_count": 404,
   "metadata": {},
   "outputs": [
    {
     "data": {
      "text/plain": [
       "{'7b5a4215415d544115415d5015455447414c155c46155f4058455c5b52': ('35',\n",
       "  'Now that the party is jumping',\n",
       "  2.4370679438820475)}"
      ]
     },
     "execution_count": 404,
     "metadata": {},
     "output_type": "execute_result"
    }
   ],
   "source": [
    "viable_strings = {}\n",
    "with open(\"s1t4_data.txt\", \"r\") as list_of_strings:\n",
    "    for s in list_of_strings:\n",
    "        int_s = int(s[:-3], 16)\n",
    "        buffer_length = len(s[:-3]) // 2\n",
    "        for c in keys:\n",
    "            total = 0\n",
    "            local_dict = {a:0 for a in english_chars}\n",
    "\n",
    "            buffer = c * buffer_length\n",
    "            int_buffer = int(buffer, 16)\n",
    "\n",
    "            hex_XOR = hex(int_s ^ int_buffer)[2:]\n",
    "\n",
    "            if len(hex_XOR) % 2 == 1:\n",
    "                hex_XOR = \"0\" + hex_XOR\n",
    "            try:\n",
    "                XOR_text = base64.b16decode(hex_XOR, casefold=True).decode()\n",
    "            except:\n",
    "                continue\n",
    "\n",
    "            for d in XOR_text:\n",
    "                if d.lower() in english_chars:\n",
    "                    local_dict[d.lower()] += 1\n",
    "                    total += 1\n",
    "                \n",
    "            try:\n",
    "                local_dict = {c:local_dict[c]/total for c in english_chars}\n",
    "            except:\n",
    "                continue\n",
    "            ch_sq = chisquare(list(local_dict.values()), list(frequency_dict.values()))[0]\n",
    "            if ch_sq < 10 and total > 25:\n",
    "                viable_strings[s[:-3]] = (c, XOR_text, ch_sq)\n",
    "\n",
    "viable_strings"
   ]
  },
  {
   "cell_type": "markdown",
   "metadata": {},
   "source": [
    "That concludes task 4!"
   ]
  },
  {
   "cell_type": "markdown",
   "metadata": {},
   "source": [
    "## Task 5: *Implement repeating-key XOR*"
   ]
  },
  {
   "cell_type": "markdown",
   "metadata": {},
   "source": [
    "In repeating key XOR, successive bytes of the plaintext are encrypted with successive bytes of the key. For example, with the example plaintext and key:"
   ]
  },
  {
   "cell_type": "code",
   "execution_count": 405,
   "metadata": {},
   "outputs": [],
   "source": [
    "plaintext = \"\"\"Burning 'em, if you ain't quick and nimble\n",
    "I go crazy when I hear a cymbal\"\"\"\n",
    "key = \"ICE\""
   ]
  },
  {
   "cell_type": "markdown",
   "metadata": {},
   "source": [
    "As we are using a multi-line plaintext, in some cases we might want to preserve line endings. A \"\\n\" return corresponds to \"\\x0A\", so we can recognise that in the hex-encoded plaintext and just add a return if we find that byte. See the comment in the loop for how this could be used; here it doesn't apply, Cryptopals' linebreaks in the hex-encoded string are purely aesthetic, but the ones in the plaintext need encoding."
   ]
  },
  {
   "cell_type": "code",
   "execution_count": 406,
   "metadata": {},
   "outputs": [
    {
     "data": {
      "text/plain": [
       "'0A'"
      ]
     },
     "execution_count": 406,
     "metadata": {},
     "output_type": "execute_result"
    }
   ],
   "source": [
    "base64.b16encode(\"\\n\".encode()).decode()"
   ]
  },
  {
   "cell_type": "markdown",
   "metadata": {},
   "source": [
    "We will encrypt the \"B\" with the \"I\", the \"u\" with the \"C\" and so on. So, we need both objects as hex-encoded bytes, ready to XOR against each other as appropriate."
   ]
  },
  {
   "cell_type": "code",
   "execution_count": 407,
   "metadata": {},
   "outputs": [],
   "source": [
    "p_as_hex = base64.b16encode(plaintext.encode()).decode()\n",
    "key_as_hex = base64.b16encode(key.encode()).decode()"
   ]
  },
  {
   "cell_type": "markdown",
   "metadata": {},
   "source": [
    "We can start with an empty variable for the ciphertext, but more generally this could be set to an empty list the same length as the plaintext. Then, we need to iterate throught the plaintext, and encode successive bytes with the corresponding bytes of the key."
   ]
  },
  {
   "cell_type": "code",
   "execution_count": 408,
   "metadata": {},
   "outputs": [],
   "source": [
    "ciphertext = \"\"\n",
    "j = 0\n",
    "#  print(\"P  --- K  ---  C\")\n",
    "for i in range(len(p_as_hex) // 2):\n",
    "    ptext_byte = p_as_hex[2*i:2*i+2]\n",
    "    # if ptext_byte == \"0A\":\n",
    "    #     ciphertext += \"\\n\"\n",
    "    #     continue\n",
    "    key_byte = key_as_hex[j % (len(key_as_hex)):j % len(key_as_hex) + 2]\n",
    "    j += 2\n",
    "\n",
    "    ptext_int = int(ptext_byte, 16)\n",
    "    key_int = int(key_byte, 16)\n",
    "    cipher_byte = hex(ptext_int ^key_int)[2:]\n",
    "    if len(cipher_byte) % 2 == 1:\n",
    "        cipher_byte = \"0\" + cipher_byte\n",
    "    \n",
    "    ciphertext += cipher_byte\n",
    "    # print(f\"{ptext_byte} --- {key_byte} --- {cipher_byte}\")\n"
   ]
  },
  {
   "cell_type": "code",
   "execution_count": 409,
   "metadata": {},
   "outputs": [
    {
     "name": "stdout",
     "output_type": "stream",
     "text": [
      "Task 5 passed correctly!\n"
     ]
    }
   ],
   "source": [
    "correct_ciphertext = \"\"\"0b3637272a2b2e63622c2e69692a23693a2a3c6324202d623d63343c2a26226324272765272a282b2f20430a652e2c652a3124333a653e2b2027630c692b20283165286326302e27282f\"\"\"\n",
    "if ciphertext == correct_ciphertext:\n",
    "    print(\"Task 5 passed correctly!\")"
   ]
  },
  {
   "cell_type": "markdown",
   "metadata": {},
   "source": [
    "## Task 6: *Break repeating-key XOR*"
   ]
  },
  {
   "cell_type": "markdown",
   "metadata": {},
   "source": [
    "Apparently this task is going to be a bit harder. Luckily, it's laid out in steps for us, and the first thing to do is be able to correctly compute the Hamming distance between hex-encoded strings. The *hexhamming* library on PyPi can do that for us."
   ]
  },
  {
   "cell_type": "code",
   "execution_count": 410,
   "metadata": {},
   "outputs": [],
   "source": [
    "from hexhamming import hamming_distance_string\n",
    "\n",
    "input1 = \"this is a test\"\n",
    "input2 = \"wokka wokka!!!\"\n",
    "\n",
    "hex1 = base64.b16encode(input1.encode()).decode()\n",
    "hex2 = base64.b16encode(input2.encode()).decode()\n",
    "\n",
    "hamming_distance = hamming_distance_string(hex1, hex2)"
   ]
  },
  {
   "cell_type": "code",
   "execution_count": 411,
   "metadata": {},
   "outputs": [
    {
     "name": "stdout",
     "output_type": "stream",
     "text": [
      "That worked as expected!\n"
     ]
    }
   ],
   "source": [
    "correct_hamming_distance = 37\n",
    "if hamming_distance == correct_hamming_distance:\n",
    "    print(\"That worked as expected!\")"
   ]
  },
  {
   "cell_type": "markdown",
   "metadata": {},
   "source": [
    "Now we want to try and guess the length of the key. Over blocks of the ciphertext the length of some key, the correct key length should minimise the Hamming distance between the blocks, normalised by the length of the key."
   ]
  },
  {
   "cell_type": "code",
   "execution_count": 412,
   "metadata": {},
   "outputs": [],
   "source": [
    "ciphertext = \"\"\n",
    "with open(\"s1t6_data.txt\", 'r') as file:\n",
    "    for s in file:\n",
    "        for c in s:\n",
    "            if c != \"\\n\":\n",
    "                ciphertext += c\n",
    "\n",
    "ciphertext = base64.b16encode(base64.b64decode(ciphertext.encode())).decode()"
   ]
  },
  {
   "cell_type": "code",
   "execution_count": 413,
   "metadata": {},
   "outputs": [
    {
     "name": "stdout",
     "output_type": "stream",
     "text": [
      "The smallest values for the Hamming distance corespond to key lengths of [30, 18, 10, 40, 4] \n"
     ]
    }
   ],
   "source": [
    "from numpy import mean\n",
    "KEYSIZE = [i for i in range(2, 41)]\n",
    "key_hamming_dict = {}\n",
    "for l in KEYSIZE:\n",
    "    distances = []\n",
    "    for i in range(40):\n",
    "        distances.append(hamming_distance_string(ciphertext[i*l:(i+1)*l], ciphertext[(i+1)*l:(i+2)*l]))\n",
    "    key_hamming_dict[l] = mean(distances) / l\n",
    "\n",
    "key_hamming_dict = {k: v for k, v in sorted(key_hamming_dict.items(), key=lambda item: item[1])}\n",
    "print(f\"The smallest values for the Hamming distance corespond to key lengths of {list(key_hamming_dict.keys())[:5]} \")"
   ]
  },
  {
   "cell_type": "markdown",
   "metadata": {},
   "source": [
    "We now have the likely key lengths, and can start to attack the ciphertext using the same statistical method as in Task 3, because every, say, 30th byte should be XORed against the same key."
   ]
  },
  {
   "cell_type": "code",
   "execution_count": 434,
   "metadata": {},
   "outputs": [],
   "source": [
    "KEYLENGTH = [30]\n",
    "for key_length in KEYLENGTH:\n",
    "    for ki in range(key_length):\n",
    "        relevant_ciphertext = \"\".join([ciphertext[key_length*i + ki: key_length*i + ki + 2] for i in range(len(ciphertext) // key_length)])\n",
    "        cipher_int = int(relevant_ciphertext, 16)\n",
    "        for k in keys:\n",
    "            buffer = k * (len(relevant_ciphertext) // 2)\n",
    "            buffer_int = int(buffer, 18)\n",
    "\n",
    "            hex_XOR = hex(cipher_int ^ buffer_int)[2:]\n",
    "            if len(hex_XOR) % 2 == 1:\n",
    "                hex_XOR = \"0\" + hex_XOR\n",
    "                \n",
    "            try:\n",
    "                XOR_string = base64.b16decode(hex_XOR.encode(), casefold=True).decode()\n",
    "            except:\n",
    "                continue\n",
    "            \n",
    "            local_dict = {c:0 for c in english_chars}\n",
    "            total = 0\n",
    "            for c in XOR_string:\n",
    "                if c.lower() in english_chars:\n",
    "                    local_dict[c.lower()] += 1\n",
    "                    total += 1\n",
    "            \n",
    "            if total > 140:\n",
    "                local_dict = {c:local_dict[c]/total for c in english_chars}\n",
    "                ch_sq = chisquare(list(local_dict.values()), list(frequency_dict.values()))[0]\n",
    "                if ch_sq < 10:\n",
    "                    print(f\"The {ki}th character of the key is {k}!\")\n",
    "                    print(XOR_string, ch_sq)"
   ]
  },
  {
   "cell_type": "code",
   "execution_count": null,
   "metadata": {},
   "outputs": [],
   "source": []
  }
 ],
 "metadata": {
  "kernelspec": {
   "display_name": "Python 3.10.5 ('env': venv)",
   "language": "python",
   "name": "python3"
  },
  "language_info": {
   "codemirror_mode": {
    "name": "ipython",
    "version": 3
   },
   "file_extension": ".py",
   "mimetype": "text/x-python",
   "name": "python",
   "nbconvert_exporter": "python",
   "pygments_lexer": "ipython3",
   "version": "3.10.5"
  },
  "orig_nbformat": 4,
  "vscode": {
   "interpreter": {
    "hash": "c2bea6e0d28d6621ea549dc3ef82e91574104eeb14bffa1cd5c6b75f66735ec7"
   }
  }
 },
 "nbformat": 4,
 "nbformat_minor": 2
}
