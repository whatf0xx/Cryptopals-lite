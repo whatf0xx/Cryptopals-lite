{
 "cells": [
  {
   "cell_type": "markdown",
   "metadata": {},
   "source": [
    "# Set 1"
   ]
  },
  {
   "cell_type": "markdown",
   "metadata": {},
   "source": [
    "## Task 1: *convert hex to base64*"
   ]
  },
  {
   "cell_type": "code",
   "execution_count": 160,
   "metadata": {},
   "outputs": [],
   "source": [
    "input_hex = \"49276d206b696c6c696e6720796f757220627261696e206c696b65206120706f69736f6e6f7573206d757368726f6f6d\""
   ]
  },
  {
   "cell_type": "code",
   "execution_count": 161,
   "metadata": {},
   "outputs": [
    {
     "name": "stdout",
     "output_type": "stream",
     "text": [
      "b\"I'm killing your brain like a poisonous mushroom\"\n"
     ]
    }
   ],
   "source": [
    "import base64\n",
    "print(input_bytes := base64.b16decode(input_hex, casefold=True))"
   ]
  },
  {
   "cell_type": "code",
   "execution_count": 162,
   "metadata": {},
   "outputs": [
    {
     "name": "stdout",
     "output_type": "stream",
     "text": [
      "Task 1 passed successfully!\n"
     ]
    }
   ],
   "source": [
    "output_b64 = base64.b64encode(input_bytes).decode()\n",
    "correct_output = \"SSdtIGtpbGxpbmcgeW91ciBicmFpbiBsaWtlIGEgcG9pc29ub3VzIG11c2hyb29t\"\n",
    "if correct_output == output_b64:\n",
    "    print(\"Task 1 passed successfully!\")"
   ]
  },
  {
   "cell_type": "markdown",
   "metadata": {},
   "source": [
    "## Task 2: *Fixed XOR*"
   ]
  },
  {
   "cell_type": "code",
   "execution_count": 163,
   "metadata": {},
   "outputs": [],
   "source": [
    "a = \"1c0111001f010100061a024b53535009181c\"\n",
    "b = \"686974207468652062756c6c277320657965\""
   ]
  },
  {
   "cell_type": "markdown",
   "metadata": {},
   "source": [
    "Time to get familiar with a great quirk of Python: bit-wise operations take place on *integers*, not on *bytes* objects! So we have to take the input bytes, read them as integers and then get back to hex to check the result."
   ]
  },
  {
   "cell_type": "code",
   "execution_count": 164,
   "metadata": {},
   "outputs": [],
   "source": [
    "int_a = int(a, 16)\n",
    "int_b = int(b, 16)\n",
    "result = hex(int_a ^ int_b)[2:]"
   ]
  },
  {
   "cell_type": "markdown",
   "metadata": {},
   "source": [
    "Here, the slicing on the string is to remove the characters that Python naturally adds to the front to let us know this is a hex-encoded string."
   ]
  },
  {
   "cell_type": "code",
   "execution_count": 165,
   "metadata": {},
   "outputs": [
    {
     "name": "stdout",
     "output_type": "stream",
     "text": [
      "Task 2 passed successfully!\n"
     ]
    }
   ],
   "source": [
    "correct_output = \"746865206b696420646f6e277420706c6179\"\n",
    "if correct_output == result:\n",
    "    print(\"Task 2 passed successfully!\")\n"
   ]
  },
  {
   "cell_type": "markdown",
   "metadata": {},
   "source": [
    "## Task 3: *Single-byte XOR cipher*"
   ]
  },
  {
   "cell_type": "markdown",
   "metadata": {},
   "source": [
    "The first step is to work out what a good English-language plaintext should look like. We can do this by sampling from something like \"The Lord of the Rings\" to get a Dictionary of letter frequencies:"
   ]
  },
  {
   "cell_type": "code",
   "execution_count": 166,
   "metadata": {},
   "outputs": [],
   "source": [
    "english_chars = \"abcdefghijklmnopqrstuvwxyz \"\n",
    "frequency_dict = {c:0 for c in english_chars}\n",
    "with open(\"lotr.txt\", \"r\") as lotr_file:\n",
    "    total = 0\n",
    "    for line in lotr_file:\n",
    "        for c in line:\n",
    "            if c.lower() in english_chars:\n",
    "                frequency_dict[c.lower()] += 1\n",
    "                total += 1\n",
    "\n",
    "frequency_dict = {c:frequency_dict[c]/total for c in english_chars}"
   ]
  },
  {
   "cell_type": "markdown",
   "metadata": {},
   "source": [
    "Now, we can loop over the characters in *english_chars* and do the following:\n",
    "1. generate the XOR of that character with the given ciphertext;\n",
    "2. compare, using *SciPy*'s built-in *chisquare* test, the letter frequencies recorded for the 'decoded' text with the letter frequencies from \"The Lord of the Rings\";\n",
    "\n",
    "and consequently pick the one with the lowest Chi-Square score to be the correct plaintext!\n",
    "\n",
    "First, we need to get *SciPy*'s *chisquare* function, and can set out some variables for later use:"
   ]
  },
  {
   "cell_type": "code",
   "execution_count": 167,
   "metadata": {},
   "outputs": [],
   "source": [
    "from scipy.stats import chisquare\n",
    "\n",
    "inf_ch_sq = 1000\n",
    "best_decipher = None\n",
    "key = None"
   ]
  },
  {
   "cell_type": "markdown",
   "metadata": {},
   "source": [
    "Now we want to decipher the ciphertext, given below as a hex-encoded string:"
   ]
  },
  {
   "cell_type": "code",
   "execution_count": 168,
   "metadata": {},
   "outputs": [],
   "source": [
    "ciphertext = \"1b37373331363f78151b7f2b783431333d78397828372d363c78373e783a393b3736\"\n",
    "int_ciphertext = int(ciphertext, 16)\n",
    "buffer_length = len(ciphertext) // 2"
   ]
  },
  {
   "cell_type": "code",
   "execution_count": 169,
   "metadata": {},
   "outputs": [
    {
     "name": "stdout",
     "output_type": "stream",
     "text": [
      "The key was 'X', with a Chi-Square value of 6.94\n",
      "The corresponding plaintext was:\n",
      "Cooking MC's like a pound of bacon\n"
     ]
    }
   ],
   "source": [
    "keys = \"ABCDEFGHIJKLMNOPQRSTUVWXYZabcdefghijklmnopqrstuvwxyz\"\n",
    "for c in keys:\n",
    "    total = 0\n",
    "    local_dict = {a:0 for a in english_chars}\n",
    "\n",
    "    buffer = base64.b16encode(c.encode()) * buffer_length\n",
    "    int_buffer = int(buffer.decode(), 16)\n",
    "\n",
    "    hex_XOR = hex(int_ciphertext ^ int_buffer)[2:]\n",
    "    XOR_text = base64.b16decode(hex_XOR, casefold=True).decode()\n",
    "    \n",
    "    for d in XOR_text:\n",
    "        if d.lower() in english_chars:\n",
    "            local_dict[d.lower()] += 1\n",
    "            total += 1\n",
    "    local_dict = {c:local_dict[c]/total for c in english_chars}\n",
    "    ch_sq = chisquare(list(local_dict.values()), list(frequency_dict.values()))[0]\n",
    "    if ch_sq < inf_ch_sq:\n",
    "        inf_ch_sq = ch_sq\n",
    "        best_decipher = XOR_text\n",
    "        key = c\n",
    "\n",
    "print(f\"The key was '{key}', with a Chi-Square value of {ch_sq:.2f}\")\n",
    "print(\"The corresponding plaintext was:\")\n",
    "print(best_decipher)    "
   ]
  },
  {
   "cell_type": "markdown",
   "metadata": {},
   "source": [
    "That concludes task 3! (N.B. 'ETAOIN SHRDLU' is a phrase that occasionally popped up in old newspaper misprints, and is a reference to things that look like total gibberish.)"
   ]
  },
  {
   "cell_type": "markdown",
   "metadata": {},
   "source": [
    "## Task 4: *Detect single-character XOR*"
   ]
  },
  {
   "cell_type": "markdown",
   "metadata": {},
   "source": [
    "We have a file of hex-encoded strings, one of which is encrypted with a single-byte XOR mask. We can use the same code as for Task 3 to decrypt the strings, and keep any that have a Chi Square coefficient of less than, say, 10, and at least 25 viable letters.\n",
    "\n",
    "We also need to give some thought to possible keys: whereas above, letters of the alphabet sufficed, here we need to be broader, and consider all possible single-byte keys, i.e. the integers 0 to 255."
   ]
  },
  {
   "cell_type": "code",
   "execution_count": 170,
   "metadata": {},
   "outputs": [],
   "source": [
    "keys = [hex(a)[2:] for a in range(256)]"
   ]
  },
  {
   "cell_type": "code",
   "execution_count": 171,
   "metadata": {},
   "outputs": [
    {
     "data": {
      "text/plain": [
       "{'7b5a4215415d544115415d5015455447414c155c46155f4058455c5b52': ('35',\n",
       "  'Now that the party is jumping',\n",
       "  2.4370679438820475)}"
      ]
     },
     "execution_count": 171,
     "metadata": {},
     "output_type": "execute_result"
    }
   ],
   "source": [
    "viable_strings = {}\n",
    "with open(\"s1t4_data.txt\", \"r\") as list_of_strings:\n",
    "    for s in list_of_strings:\n",
    "        int_s = int(s[:-3], 16)\n",
    "        buffer_length = len(s[:-3]) // 2\n",
    "        for c in keys:\n",
    "            total = 0\n",
    "            local_dict = {a:0 for a in english_chars}\n",
    "\n",
    "            buffer = c * buffer_length\n",
    "            int_buffer = int(buffer, 16)\n",
    "\n",
    "            hex_XOR = hex(int_s ^ int_buffer)[2:]\n",
    "\n",
    "            if len(hex_XOR) % 2 == 1:\n",
    "                hex_XOR = \"0\" + hex_XOR\n",
    "            try:\n",
    "                XOR_text = base64.b16decode(hex_XOR, casefold=True).decode()\n",
    "            except:\n",
    "                continue\n",
    "\n",
    "            for d in XOR_text:\n",
    "                if d.lower() in english_chars:\n",
    "                    local_dict[d.lower()] += 1\n",
    "                    total += 1\n",
    "                \n",
    "            try:\n",
    "                local_dict = {c:local_dict[c]/total for c in english_chars}\n",
    "            except:\n",
    "                continue\n",
    "            ch_sq = chisquare(list(local_dict.values()), list(frequency_dict.values()))[0]\n",
    "            if ch_sq < 10 and total > 25:\n",
    "                viable_strings[s[:-3]] = (c, XOR_text, ch_sq)\n",
    "\n",
    "viable_strings"
   ]
  },
  {
   "cell_type": "markdown",
   "metadata": {},
   "source": [
    "That concludes task 4!"
   ]
  },
  {
   "cell_type": "markdown",
   "metadata": {},
   "source": [
    "## Task 5: *Implement repeating-key XOR*"
   ]
  }
 ],
 "metadata": {
  "kernelspec": {
   "display_name": "Python 3.10.5 ('env': venv)",
   "language": "python",
   "name": "python3"
  },
  "language_info": {
   "codemirror_mode": {
    "name": "ipython",
    "version": 3
   },
   "file_extension": ".py",
   "mimetype": "text/x-python",
   "name": "python",
   "nbconvert_exporter": "python",
   "pygments_lexer": "ipython3",
   "version": "3.10.5"
  },
  "orig_nbformat": 4,
  "vscode": {
   "interpreter": {
    "hash": "c2bea6e0d28d6621ea549dc3ef82e91574104eeb14bffa1cd5c6b75f66735ec7"
   }
  }
 },
 "nbformat": 4,
 "nbformat_minor": 2
}
