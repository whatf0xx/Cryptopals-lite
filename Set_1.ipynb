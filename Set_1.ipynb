{
 "cells": [
  {
   "cell_type": "markdown",
   "metadata": {},
   "source": [
    "# Set 1"
   ]
  },
  {
   "cell_type": "markdown",
   "metadata": {},
   "source": [
    "## Task 1: *convert hex to base64*"
   ]
  },
  {
   "cell_type": "code",
   "execution_count": 1,
   "metadata": {},
   "outputs": [],
   "source": [
    "input_hex = \"49276d206b696c6c696e6720796f757220627261696e206c696b65206120706f69736f6e6f7573206d757368726f6f6d\""
   ]
  },
  {
   "cell_type": "code",
   "execution_count": 2,
   "metadata": {},
   "outputs": [
    {
     "name": "stdout",
     "output_type": "stream",
     "text": [
      "I'm killing your brain like a poisonous mushroom\n"
     ]
    }
   ],
   "source": [
    "import base64\n",
    "input_bytes = base64.b16decode(input_hex, casefold=True)\n",
    "print(input_bytes.decode())"
   ]
  },
  {
   "cell_type": "code",
   "execution_count": 3,
   "metadata": {},
   "outputs": [
    {
     "name": "stdout",
     "output_type": "stream",
     "text": [
      "Task 1 passed successfully!\n"
     ]
    }
   ],
   "source": [
    "output_b64 = base64.b64encode(input_bytes).decode()\n",
    "correct_output = \"SSdtIGtpbGxpbmcgeW91ciBicmFpbiBsaWtlIGEgcG9pc29ub3VzIG11c2hyb29t\"\n",
    "if correct_output == output_b64:\n",
    "    print(\"Task 1 passed successfully!\")"
   ]
  },
  {
   "cell_type": "markdown",
   "metadata": {},
   "source": [
    "Having rewritten much of the code so far into reuseable functions, this task can be refactored:"
   ]
  },
  {
   "cell_type": "code",
   "execution_count": 4,
   "metadata": {},
   "outputs": [
    {
     "data": {
      "text/plain": [
       "True"
      ]
     },
     "execution_count": 4,
     "metadata": {},
     "output_type": "execute_result"
    }
   ],
   "source": [
    "from functions import *\n",
    "to_b64(to_bytes(input_hex)) == correct_output"
   ]
  },
  {
   "cell_type": "markdown",
   "metadata": {},
   "source": [
    "## Task 2: *Fixed XOR*"
   ]
  },
  {
   "cell_type": "code",
   "execution_count": 5,
   "metadata": {},
   "outputs": [],
   "source": [
    "a = \"1c0111001f010100061a024b53535009181c\"\n",
    "b = \"686974207468652062756c6c277320657965\""
   ]
  },
  {
   "cell_type": "markdown",
   "metadata": {},
   "source": [
    "Time to get familiar with a great quirk of Python: bit-wise operations take place on *integers*, not on *bytes* objects! So we have to take the input bytes, read them as integers and then get back to hex to check the result."
   ]
  },
  {
   "cell_type": "code",
   "execution_count": 6,
   "metadata": {},
   "outputs": [],
   "source": [
    "int_a = int(a, 16)\n",
    "int_b = int(b, 16)\n",
    "result = hex(int_a ^ int_b)[2:]"
   ]
  },
  {
   "cell_type": "markdown",
   "metadata": {},
   "source": [
    "Here, the slicing on the string is to remove the characters that Python naturally adds to the front to let us know this is a hex-encoded string."
   ]
  },
  {
   "cell_type": "code",
   "execution_count": 7,
   "metadata": {},
   "outputs": [
    {
     "name": "stdout",
     "output_type": "stream",
     "text": [
      "Task 2 passed successfully!\n"
     ]
    }
   ],
   "source": [
    "correct_output = \"746865206b696420646f6e277420706c6179\"\n",
    "if correct_output == result:\n",
    "    print(\"Task 2 passed successfully!\")\n"
   ]
  },
  {
   "cell_type": "markdown",
   "metadata": {},
   "source": [
    "Similarly: (N.B. make sure *functions* is already imported)"
   ]
  },
  {
   "cell_type": "code",
   "execution_count": 8,
   "metadata": {},
   "outputs": [
    {
     "data": {
      "text/plain": [
       "True"
      ]
     },
     "execution_count": 8,
     "metadata": {},
     "output_type": "execute_result"
    }
   ],
   "source": [
    "to_hex(key_XOR(to_bytes(a), to_bytes(b))) == correct_output"
   ]
  },
  {
   "cell_type": "markdown",
   "metadata": {},
   "source": [
    "## Task 3: *Single-byte XOR cipher*"
   ]
  },
  {
   "cell_type": "markdown",
   "metadata": {},
   "source": [
    "The first step is to work out what a good English-language plaintext should look like. We can do this by sampling from something like \"The Lord of the Rings\" to get a Dictionary of letter frequencies:"
   ]
  },
  {
   "cell_type": "code",
   "execution_count": 9,
   "metadata": {},
   "outputs": [],
   "source": [
    "english_chars = \"abcdefghijklmnopqrstuvwxyz \"\n",
    "frequency_dict = {c:0 for c in english_chars}\n",
    "with open(\"lotr.txt\", \"r\") as lotr_file:\n",
    "    total = 0\n",
    "    for line in lotr_file:\n",
    "        for c in line:\n",
    "            if c.lower() in english_chars:\n",
    "                frequency_dict[c.lower()] += 1\n",
    "                total += 1\n",
    "\n",
    "frequency_dict = {c:frequency_dict[c]/total for c in english_chars}"
   ]
  },
  {
   "cell_type": "markdown",
   "metadata": {},
   "source": [
    "Now, we can loop over the characters in *english_chars* and do the following:\n",
    "1. generate the XOR of that character with the given ciphertext;\n",
    "2. compare, using *SciPy*'s built-in *chisquare* test, the letter frequencies recorded for the 'decoded' text with the letter frequencies from \"The Lord of the Rings\";\n",
    "\n",
    "and consequently pick the one with the lowest Chi-Square score to be the correct plaintext!\n",
    "\n",
    "First, we need to get *SciPy*'s *chisquare* function, and can set out some variables for later use:"
   ]
  },
  {
   "cell_type": "code",
   "execution_count": 10,
   "metadata": {},
   "outputs": [],
   "source": [
    "from scipy.stats import chisquare\n",
    "\n",
    "inf_ch_sq = 1000\n",
    "best_decipher = None\n",
    "key = None"
   ]
  },
  {
   "cell_type": "markdown",
   "metadata": {},
   "source": [
    "Now we want to decipher the ciphertext, given below as a hex-encoded string:"
   ]
  },
  {
   "cell_type": "code",
   "execution_count": 11,
   "metadata": {},
   "outputs": [],
   "source": [
    "ciphertext = \"1b37373331363f78151b7f2b783431333d78397828372d363c78373e783a393b3736\"\n",
    "int_ciphertext = int(ciphertext, 16)\n",
    "buffer_length = len(ciphertext) // 2"
   ]
  },
  {
   "cell_type": "code",
   "execution_count": 12,
   "metadata": {},
   "outputs": [
    {
     "name": "stdout",
     "output_type": "stream",
     "text": [
      "The key was 'X', with a Chi-Square value of 1.45\n",
      "The corresponding plaintext was:\n",
      "Cooking MC's like a pound of bacon\n"
     ]
    }
   ],
   "source": [
    "keys = \"ABCDEFGHIJKLMNOPQRSTUVWXYZabcdefghijklmnopqrstuvwxyz\"\n",
    "for c in keys:\n",
    "    total = 0\n",
    "    local_dict = {a:0 for a in english_chars}\n",
    "\n",
    "    buffer = base64.b16encode(c.encode()) * buffer_length\n",
    "    int_buffer = int(buffer.decode(), 16)\n",
    "\n",
    "    hex_XOR = hex(int_ciphertext ^ int_buffer)[2:]\n",
    "    XOR_text = base64.b16decode(hex_XOR, casefold=True).decode()\n",
    "    \n",
    "    for d in XOR_text:\n",
    "        if d.lower() in english_chars:\n",
    "            local_dict[d.lower()] += 1\n",
    "            total += 1\n",
    "    local_dict = {c:local_dict[c]/total for c in english_chars}\n",
    "    ch_sq = chisquare(list(local_dict.values()), list(frequency_dict.values()))[0]\n",
    "    if ch_sq < inf_ch_sq:\n",
    "        inf_ch_sq = ch_sq\n",
    "        best_decipher = XOR_text\n",
    "        key = c\n",
    "\n",
    "print(f\"The key was '{key}', with a Chi-Square value of {inf_ch_sq:.2f}\")\n",
    "print(\"The corresponding plaintext was:\")\n",
    "print(best_decipher)    "
   ]
  },
  {
   "cell_type": "markdown",
   "metadata": {},
   "source": [
    "That concludes task 3! (N.B. 'ETAOIN SHRDLU' is a phrase that occasionally popped up in old newspaper misprints, and is a reference to things that look like total gibberish.)"
   ]
  },
  {
   "cell_type": "markdown",
   "metadata": {},
   "source": [
    "This gets all nicely wrapped up into \"byte_XOR_break\", where the key is now given as a hexadecimal number corresponding to the ascii encoding for 'X'."
   ]
  },
  {
   "cell_type": "code",
   "execution_count": 13,
   "metadata": {},
   "outputs": [
    {
     "data": {
      "text/plain": [
       "('0x58', \"Cooking MC's like a pound of bacon\", 1.1848580914226594)"
      ]
     },
     "execution_count": 13,
     "metadata": {},
     "output_type": "execute_result"
    }
   ],
   "source": [
    "byte_XOR_break(ciphertext)"
   ]
  },
  {
   "cell_type": "markdown",
   "metadata": {},
   "source": [
    "Can I explain the discrepancy in the Chi-Square values? Is this just a reflection of a bad counting algorithm implemented by me?"
   ]
  },
  {
   "cell_type": "markdown",
   "metadata": {},
   "source": [
    "## Task 4: *Detect single-character XOR*"
   ]
  },
  {
   "cell_type": "markdown",
   "metadata": {},
   "source": [
    "We have a file of hex-encoded strings, one of which is encrypted with a single-byte XOR mask. We can use the same code as for Task 3 to decrypt the strings, and keep any that have a Chi Square coefficient of less than, say, 10, and at least 25 viable letters.\n",
    "\n",
    "We also need to give some thought to possible keys: whereas above, letters of the alphabet sufficed, here we need to be broader, and consider all possible single-byte keys, i.e. the integers 0 to 255."
   ]
  },
  {
   "cell_type": "code",
   "execution_count": 14,
   "metadata": {},
   "outputs": [],
   "source": [
    "keys = [\"0\" * (2-len(hex(a)[2:])) + hex(a)[2:] for a in range(256)]"
   ]
  },
  {
   "cell_type": "code",
   "execution_count": 15,
   "metadata": {},
   "outputs": [
    {
     "data": {
      "text/plain": [
       "{'7b5a4215415d544115415d5015455447414c155c46155f4058455c5b52': ('35',\n",
       "  'Now that the party is jumping',\n",
       "  2.4370679438820475)}"
      ]
     },
     "execution_count": 15,
     "metadata": {},
     "output_type": "execute_result"
    }
   ],
   "source": [
    "viable_strings = {}\n",
    "with open(\"s1t4_data.txt\", \"r\") as list_of_strings:\n",
    "    for s in list_of_strings:\n",
    "        int_s = int(s[:-3], 16)\n",
    "        buffer_length = len(s[:-3]) // 2\n",
    "        for c in keys:\n",
    "            total = 0\n",
    "            local_dict = {a:0 for a in english_chars}\n",
    "\n",
    "            buffer = c * buffer_length\n",
    "            int_buffer = int(buffer, 16)\n",
    "\n",
    "            hex_XOR = hex(int_s ^ int_buffer)[2:]\n",
    "\n",
    "            if len(hex_XOR) % 2 == 1:\n",
    "                hex_XOR = \"0\" + hex_XOR\n",
    "            try:\n",
    "                XOR_text = base64.b16decode(hex_XOR, casefold=True).decode()\n",
    "            except:\n",
    "                continue\n",
    "\n",
    "            for d in XOR_text:\n",
    "                if d.lower() in english_chars:\n",
    "                    local_dict[d.lower()] += 1\n",
    "                    total += 1\n",
    "                \n",
    "            try:\n",
    "                local_dict = {c:local_dict[c]/total for c in english_chars}\n",
    "            except:\n",
    "                continue\n",
    "            ch_sq = chisquare(list(local_dict.values()), list(frequency_dict.values()))[0]\n",
    "            if ch_sq < 10 and total > 25:\n",
    "                viable_strings[s[:-3]] = (c, XOR_text, ch_sq)\n",
    "\n",
    "viable_strings"
   ]
  },
  {
   "cell_type": "markdown",
   "metadata": {},
   "source": [
    "That concludes task 4!"
   ]
  },
  {
   "cell_type": "markdown",
   "metadata": {},
   "source": [
    "## Task 5: *Implement repeating-key XOR*"
   ]
  },
  {
   "cell_type": "markdown",
   "metadata": {},
   "source": [
    "In repeating key XOR, successive bytes of the plaintext are encrypted with successive bytes of the key. For example, with the example plaintext and key:"
   ]
  },
  {
   "cell_type": "code",
   "execution_count": 16,
   "metadata": {},
   "outputs": [],
   "source": [
    "plaintext = \"\"\"Burning 'em, if you ain't quick and nimble\n",
    "I go crazy when I hear a cymbal\"\"\"\n",
    "key = \"ICE\""
   ]
  },
  {
   "cell_type": "markdown",
   "metadata": {},
   "source": [
    "As we are using a multi-line plaintext, in some cases we might want to preserve line endings. A \"\\n\" return corresponds to \"\\x0A\", so we can recognise that in the hex-encoded plaintext and just add a return if we find that byte. See the comment in the loop for how this could be used; here it doesn't apply, Cryptopals' linebreaks in the hex-encoded string are purely aesthetic, but the ones in the plaintext need encoding."
   ]
  },
  {
   "cell_type": "code",
   "execution_count": 17,
   "metadata": {},
   "outputs": [
    {
     "data": {
      "text/plain": [
       "'0A'"
      ]
     },
     "execution_count": 17,
     "metadata": {},
     "output_type": "execute_result"
    }
   ],
   "source": [
    "base64.b16encode(\"\\n\".encode()).decode()"
   ]
  },
  {
   "cell_type": "markdown",
   "metadata": {},
   "source": [
    "We will encrypt the \"B\" with the \"I\", the \"u\" with the \"C\" and so on. So, we need both objects as hex-encoded bytes, ready to XOR against each other as appropriate."
   ]
  },
  {
   "cell_type": "code",
   "execution_count": 18,
   "metadata": {},
   "outputs": [],
   "source": [
    "p_as_hex = base64.b16encode(plaintext.encode()).decode()\n",
    "key_as_hex = base64.b16encode(key.encode()).decode()"
   ]
  },
  {
   "cell_type": "markdown",
   "metadata": {},
   "source": [
    "We can start with an empty variable for the ciphertext, but more generally this could be set to an empty list the same length as the plaintext. Then, we need to iterate throught the plaintext, and encode successive bytes with the corresponding bytes of the key."
   ]
  },
  {
   "cell_type": "code",
   "execution_count": 19,
   "metadata": {},
   "outputs": [],
   "source": [
    "ciphertext = \"\"\n",
    "j = 0\n",
    "#  print(\"P  --- K  ---  C\")\n",
    "for i in range(len(p_as_hex) // 2):\n",
    "    ptext_byte = p_as_hex[2*i:2*i+2]\n",
    "    # if ptext_byte == \"0A\":\n",
    "    #     ciphertext += \"\\n\"\n",
    "    #     continue\n",
    "    key_byte = key_as_hex[j % (len(key_as_hex)):j % len(key_as_hex) + 2]\n",
    "    j += 2\n",
    "\n",
    "    ptext_int = int(ptext_byte, 16)\n",
    "    key_int = int(key_byte, 16)\n",
    "    cipher_byte = hex(ptext_int ^key_int)[2:]\n",
    "    if len(cipher_byte) % 2 == 1:\n",
    "        cipher_byte = \"0\" + cipher_byte\n",
    "    \n",
    "    ciphertext += cipher_byte\n",
    "    # print(f\"{ptext_byte} --- {key_byte} --- {cipher_byte}\")\n"
   ]
  },
  {
   "cell_type": "code",
   "execution_count": 20,
   "metadata": {},
   "outputs": [
    {
     "name": "stdout",
     "output_type": "stream",
     "text": [
      "Task 5 passed correctly!\n"
     ]
    }
   ],
   "source": [
    "correct_ciphertext = \"\"\"0b3637272a2b2e63622c2e69692a23693a2a3c6324202d623d63343c2a26226324272765272a282b2f20430a652e2c652a3124333a653e2b2027630c692b20283165286326302e27282f\"\"\"\n",
    "if ciphertext == correct_ciphertext:\n",
    "    print(\"Task 5 passed correctly!\")"
   ]
  },
  {
   "cell_type": "markdown",
   "metadata": {},
   "source": [
    "Again, this kind of encryption can be *very* neatly wrapped up into a function:"
   ]
  },
  {
   "cell_type": "code",
   "execution_count": 21,
   "metadata": {},
   "outputs": [
    {
     "data": {
      "text/plain": [
       "True"
      ]
     },
     "execution_count": 21,
     "metadata": {},
     "output_type": "execute_result"
    }
   ],
   "source": [
    "vig_encrypt(plaintext, key) == correct_ciphertext"
   ]
  },
  {
   "cell_type": "markdown",
   "metadata": {},
   "source": [
    "## Task 6: *Break repeating-key XOR*"
   ]
  },
  {
   "cell_type": "markdown",
   "metadata": {},
   "source": [
    "Apparently this task is going to be a bit harder. Luckily, it's laid out in steps for us, and the first thing to do is be able to correctly compute the Hamming distance between hex-encoded strings. The *hexhamming* library on PyPi can do that for us."
   ]
  },
  {
   "cell_type": "code",
   "execution_count": 22,
   "metadata": {},
   "outputs": [],
   "source": [
    "from hexhamming import hamming_distance_string\n",
    "\n",
    "input1 = \"this is a test\"\n",
    "input2 = \"wokka wokka!!!\"\n",
    "\n",
    "hex1 = base64.b16encode(input1.encode()).decode()\n",
    "hex2 = base64.b16encode(input2.encode()).decode()\n",
    "\n",
    "hamming_distance = hamming_distance_string(hex1, hex2)"
   ]
  },
  {
   "cell_type": "code",
   "execution_count": 23,
   "metadata": {},
   "outputs": [
    {
     "name": "stdout",
     "output_type": "stream",
     "text": [
      "That worked as expected!\n"
     ]
    }
   ],
   "source": [
    "correct_hamming_distance = 37\n",
    "if hamming_distance == correct_hamming_distance:\n",
    "    print(\"That worked as expected!\")"
   ]
  },
  {
   "cell_type": "markdown",
   "metadata": {},
   "source": [
    "If we take the Hamming distance between blocks of Englis text, we get a distance-per-byte of about 2.7, corresponding to properties of the utf-8 encoding. We can verify this by taking the normalised Hamming distance over blocks of \"The Lord of the Rings\":"
   ]
  },
  {
   "cell_type": "code",
   "execution_count": 27,
   "metadata": {},
   "outputs": [
    {
     "name": "stdout",
     "output_type": "stream",
     "text": [
      "32 2.6465803452855248\n",
      "36 2.6427346170872066\n",
      "49 2.6364994811483915\n",
      "27 2.6360215276913075\n",
      "48 2.6447535991140643\n"
     ]
    }
   ],
   "source": [
    "from random import sample\n",
    "\n",
    "with open('lotr.txt', 'r') as lotr:\n",
    "        lines_to_read = 1000\n",
    "        text = \"\"\n",
    "        for line in lotr:\n",
    "            lines_to_read -= 1\n",
    "            if lines_to_read < 0:\n",
    "                break\n",
    "            else:\n",
    "                for char in line:\n",
    "                    text += char\n",
    "\n",
    "for i in sample(range(50), 5):\n",
    "    print(i, norm_hamming_dist(to_hex(to_bytes(text, 'plaintext')), i))"
   ]
  },
  {
   "cell_type": "markdown",
   "metadata": {},
   "source": [
    "By contrast, over blocks of random text (read: encrypted) we get a higher normalised Hamming distance:"
   ]
  },
  {
   "cell_type": "code",
   "execution_count": 33,
   "metadata": {},
   "outputs": [
    {
     "name": "stdout",
     "output_type": "stream",
     "text": [
      "49 3.2101279833967484\n",
      "42 3.1957887164162586\n",
      "24 3.32647189021691\n",
      "16 3.193336468245187\n",
      "14 3.4576130549025033\n"
     ]
    }
   ],
   "source": [
    "for i in sample(range(2, 50), 5):\n",
    "    print(i, norm_hamming_dist(vig_encrypt(text, 'THIS IS A KEY'), i))"
   ]
  },
  {
   "cell_type": "markdown",
   "metadata": {},
   "source": [
    "However, if we take the normalised Hamming distance over blocks that are the same length as the key, then the XOR cancels out, and we retrieve a plaintext Hamming distance result:"
   ]
  },
  {
   "cell_type": "code",
   "execution_count": 35,
   "metadata": {},
   "outputs": [
    {
     "name": "stdout",
     "output_type": "stream",
     "text": [
      "13 2.6345393190053383\n"
     ]
    }
   ],
   "source": [
    "print(13, norm_hamming_dist(vig_encrypt(text, 'THIS IS A KEY'), 13))"
   ]
  },
  {
   "cell_type": "code",
   "execution_count": 36,
   "metadata": {},
   "outputs": [
    {
     "name": "stdout",
     "output_type": "stream",
     "text": [
      "13 2.6345393190053383\n"
     ]
    }
   ],
   "source": [
    "print(13, norm_hamming_dist(to_hex(to_bytes(text, 'plaintext')), 13))"
   ]
  },
  {
   "cell_type": "markdown",
   "metadata": {},
   "source": [
    "Now we want to try and guess the length of the key. Over blocks of the ciphertext the length of some key, the correct key length should minimise the Hamming distance between the blocks, normalised by the length of the key."
   ]
  },
  {
   "cell_type": "code",
   "execution_count": 39,
   "metadata": {},
   "outputs": [],
   "source": [
    "ciphertext = \"\"\n",
    "with open(\"s1t6_data.txt\", 'r') as file:\n",
    "    for s in file:\n",
    "        for c in s:\n",
    "            if c != \"\\n\":\n",
    "                ciphertext += c\n",
    "\n",
    "ciphertext = to_hex(to_bytes(ciphertext, 'b64'))"
   ]
  },
  {
   "cell_type": "code",
   "execution_count": 45,
   "metadata": {},
   "outputs": [
    {
     "data": {
      "text/plain": [
       "{29: 2.7593244194229416,\n",
       " 38: 3.152560455192034,\n",
       " 13: 3.164335664335664,\n",
       " 9: 3.1652690426275334,\n",
       " 16: 3.165379213483146,\n",
       " 15: 3.1743859649122808,\n",
       " 22: 3.175123326286117,\n",
       " 20: 3.182394366197183,\n",
       " 25: 3.192280701754386,\n",
       " 32: 3.196377840909091,\n",
       " 36: 3.1994301994301995,\n",
       " 26: 3.205010585744531,\n",
       " 33: 3.2064834390415786,\n",
       " 7: 3.2074746769123297,\n",
       " 18: 3.2127285513361463,\n",
       " 4: 3.21483286908078,\n",
       " 3: 3.215256008359457,\n",
       " 11: 3.2157342657342656,\n",
       " 14: 3.2244397759103642,\n",
       " 39: 3.2336182336182335,\n",
       " 34: 3.233876683203402,\n",
       " 10: 3.234965034965035,\n",
       " 8: 3.2353351955307263,\n",
       " 17: 3.241596638655462,\n",
       " 31: 3.2431761786600495,\n",
       " 35: 3.2447971781305114,\n",
       " 21: 3.2465608465608464,\n",
       " 23: 3.247194950911641,\n",
       " 2: 3.2505219206680587,\n",
       " 12: 3.251750700280112,\n",
       " 30: 3.2578014184397164,\n",
       " 5: 3.2581881533101047,\n",
       " 37: 3.261379800853485,\n",
       " 27: 3.2659611992945328,\n",
       " 19: 3.2754385964912283,\n",
       " 24: 3.2824858757062145,\n",
       " 28: 3.289250353606789,\n",
       " 6: 3.2900976290097628}"
      ]
     },
     "execution_count": 45,
     "metadata": {},
     "output_type": "execute_result"
    }
   ],
   "source": [
    "hamming_norms = {i: norm_hamming_dist(ciphertext, i) for i in range(2,40)}\n",
    "sorted_norms = {i: hamming_norms[i] for i in sorted(hamming_norms.keys(), key=lambda x: hamming_norms[x])}\n",
    "sorted_norms"
   ]
  },
  {
   "cell_type": "markdown",
   "metadata": {},
   "source": [
    "And so we see that the key length is (convincingly) 29!"
   ]
  },
  {
   "cell_type": "code",
   "execution_count": 70,
   "metadata": {},
   "outputs": [],
   "source": [
    "KEYLENGTH = 29\n",
    "key = [0] * KEYLENGTH\n",
    "cipher_bytes = to_bytes(ciphertext)\n",
    "for i in range(KEYLENGTH):\n",
    "    relevant_bytes = cipher_bytes[i::29]\n",
    "    relevant_string = to_hex(relevant_bytes)\n",
    "\n",
    "    key[i] = byte_XOR_break(relevant_string)[0]\n"
   ]
  },
  {
   "cell_type": "code",
   "execution_count": 72,
   "metadata": {},
   "outputs": [
    {
     "data": {
      "text/plain": [
       "'Terminator X: Bring the noise'"
      ]
     },
     "execution_count": 72,
     "metadata": {},
     "output_type": "execute_result"
    }
   ],
   "source": [
    "to_plaintext(key)"
   ]
  },
  {
   "cell_type": "code",
   "execution_count": 75,
   "metadata": {},
   "outputs": [
    {
     "name": "stdout",
     "output_type": "stream",
     "text": [
      "I'm back and I'm ringin' the bell \n",
      "A rockin' on the mike while the fly girls yell \n",
      "In ecstasy in the back of me \n",
      "Well that's my DJ Deshay cuttin' all them Z's \n",
      "Hittin' hard and the girlies goin' crazy \n",
      "Vanilla's on the mike, man I'm not lazy. \n",
      "\n",
      "I'm lettin' my drug kick in \n",
      "It controls my mouth and I begin \n",
      "To just let it flow, let my concepts go \n",
      "My posse's to the side yellin', Go Vanilla Go! \n",
      "\n",
      "Smooth 'cause that's the way I will be \n",
      "And if you don't give a damn, then \n",
      "Why you starin' at me \n",
      "So get off 'cause I control the stage \n",
      "There's no dissin' allowed \n",
      "I'm in my own phase \n",
      "The girlies sa y they love me and that is ok \n",
      "And I can dance better than any kid n' play \n",
      "\n",
      "Stage 2 -- Yea the one ya' wanna listen to \n",
      "It's off my head so let the beat play through \n",
      "So I can funk it up and make it sound good \n",
      "1-2-3 Yo -- Knock on some wood \n",
      "For good luck, I like my rhymes atrocious \n",
      "Supercalafragilisticexpialidocious \n",
      "I'm an effect and that you can bet \n",
      "I can take a fly girl and make her wet. \n",
      "\n",
      "I'm like Samson -- Samson to Delilah \n",
      "There's no denyin', You can try to hang \n",
      "But you'll keep tryin' to get my style \n",
      "Over and over, practice makes perfect \n",
      "But not if you're a loafer. \n",
      "\n",
      "You'll get nowhere, no place, no time, no girls \n",
      "Soon -- Oh my God, homebody, you probably eat \n",
      "Spaghetti with a spoon! Come on and say it! \n",
      "\n",
      "VIP. Vanilla Ice yep, yep, I'm comin' hard like a rhino \n",
      "Intoxicating so you stagger like a wino \n",
      "So punks stop trying and girl stop cryin' \n",
      "Vanilla Ice is sellin' and you people are buyin' \n",
      "'Cause why the freaks are jockin' like Crazy Glue \n",
      "Movin' and groovin' trying to sing along \n",
      "All through the ghetto groovin' this here song \n",
      "Now you're amazed by the VIP posse. \n",
      "\n",
      "Steppin' so hard like a German Nazi \n",
      "Startled by the bases hittin' ground \n",
      "There's no trippin' on mine, I'm just gettin' down \n",
      "Sparkamatic, I'm hangin' tight like a fanatic \n",
      "You trapped me once and I thought that \n",
      "You might have it \n",
      "So step down and lend me your ear \n",
      "'89 in my time! You, '90 is my year. \n",
      "\n",
      "You're weakenin' fast, YO! and I can tell it \n",
      "Your body's gettin' hot, so, so I can smell it \n",
      "So don't be mad and don't be sad \n",
      "'Cause the lyrics belong to ICE, You can call me Dad \n",
      "You're pitchin' a fit, so step back and endure \n",
      "Let the witch doctor, Ice, do the dance to cure \n",
      "So come up close and don't be square \n",
      "You wanna battle me -- Anytime, anywhere \n",
      "\n",
      "You thought that I was weak, Boy, you're dead wrong \n",
      "So come on, everybody and sing this song \n",
      "\n",
      "Say -- Play that funky music Say, go white boy, go white boy go \n",
      "play that funky music Go white boy, go white boy, go \n",
      "Lay down and boogie and play that funky music till you die. \n",
      "\n",
      "Play that funky music Come on, Come on, let me hear \n",
      "Play that funky music white boy you say it, say it \n",
      "Play that funky music A little louder now \n",
      "Play that funky music, white boy Come on, Come on, Come on \n",
      "Play that funky music \n",
      "\n"
     ]
    }
   ],
   "source": [
    "print(vig_decrypt(ciphertext, to_plaintext(key), 'hex'))"
   ]
  },
  {
   "cell_type": "markdown",
   "metadata": {},
   "source": [
    "That concludes Task 6!"
   ]
  },
  {
   "cell_type": "markdown",
   "metadata": {},
   "source": [
    "## Task 7: *AES in ECB mode*"
   ]
  },
  {
   "cell_type": "code",
   "execution_count": 89,
   "metadata": {},
   "outputs": [],
   "source": [
    "from cryptography.hazmat.primitives.ciphers import Cipher, algorithms, modes"
   ]
  },
  {
   "cell_type": "code",
   "execution_count": 101,
   "metadata": {},
   "outputs": [],
   "source": [
    "ciphertext = \"\"\n",
    "with open('s1t7_data.txt', 'r') as file:\n",
    "    for line in file:\n",
    "        for char in line:\n",
    "            if char == \"\\n\":\n",
    "                continue\n",
    "            ciphertext += char\n",
    "cipher_bytes = bytes.fromhex(to_hex(to_bytes(ciphertext, 'b64')))"
   ]
  },
  {
   "cell_type": "code",
   "execution_count": 103,
   "metadata": {},
   "outputs": [
    {
     "name": "stdout",
     "output_type": "stream",
     "text": [
      "I'm back and I'm ringin' the bell \n",
      "A rockin' on the mike while the fly girls yell \n",
      "In ecstasy in the back of me \n",
      "Well that's my DJ Deshay cuttin' all them Z's \n",
      "Hittin' hard and the girlies goin' crazy \n",
      "Vanilla's on the mike, man I'm not lazy. \n",
      "\n",
      "I'm lettin' my drug kick in \n",
      "It controls my mouth and I begin \n",
      "To just let it flow, let my concepts go \n",
      "My posse's to the side yellin', Go Vanilla Go! \n",
      "\n",
      "Smooth 'cause that's the way I will be \n",
      "And if you don't give a damn, then \n",
      "Why you starin' at me \n",
      "So get off 'cause I control the stage \n",
      "There's no dissin' allowed \n",
      "I'm in my own phase \n",
      "The girlies sa y they love me and that is ok \n",
      "And I can dance better than any kid n' play \n",
      "\n",
      "Stage 2 -- Yea the one ya' wanna listen to \n",
      "It's off my head so let the beat play through \n",
      "So I can funk it up and make it sound good \n",
      "1-2-3 Yo -- Knock on some wood \n",
      "For good luck, I like my rhymes atrocious \n",
      "Supercalafragilisticexpialidocious \n",
      "I'm an effect and that you can bet \n",
      "I can take a fly girl and make her wet. \n",
      "\n",
      "I'm like Samson -- Samson to Delilah \n",
      "There's no denyin', You can try to hang \n",
      "But you'll keep tryin' to get my style \n",
      "Over and over, practice makes perfect \n",
      "But not if you're a loafer. \n",
      "\n",
      "You'll get nowhere, no place, no time, no girls \n",
      "Soon -- Oh my God, homebody, you probably eat \n",
      "Spaghetti with a spoon! Come on and say it! \n",
      "\n",
      "VIP. Vanilla Ice yep, yep, I'm comin' hard like a rhino \n",
      "Intoxicating so you stagger like a wino \n",
      "So punks stop trying and girl stop cryin' \n",
      "Vanilla Ice is sellin' and you people are buyin' \n",
      "'Cause why the freaks are jockin' like Crazy Glue \n",
      "Movin' and groovin' trying to sing along \n",
      "All through the ghetto groovin' this here song \n",
      "Now you're amazed by the VIP posse. \n",
      "\n",
      "Steppin' so hard like a German Nazi \n",
      "Startled by the bases hittin' ground \n",
      "There's no trippin' on mine, I'm just gettin' down \n",
      "Sparkamatic, I'm hangin' tight like a fanatic \n",
      "You trapped me once and I thought that \n",
      "You might have it \n",
      "So step down and lend me your ear \n",
      "'89 in my time! You, '90 is my year. \n",
      "\n",
      "You're weakenin' fast, YO! and I can tell it \n",
      "Your body's gettin' hot, so, so I can smell it \n",
      "So don't be mad and don't be sad \n",
      "'Cause the lyrics belong to ICE, You can call me Dad \n",
      "You're pitchin' a fit, so step back and endure \n",
      "Let the witch doctor, Ice, do the dance to cure \n",
      "So come up close and don't be square \n",
      "You wanna battle me -- Anytime, anywhere \n",
      "\n",
      "You thought that I was weak, Boy, you're dead wrong \n",
      "So come on, everybody and sing this song \n",
      "\n",
      "Say -- Play that funky music Say, go white boy, go white boy go \n",
      "play that funky music Go white boy, go white boy, go \n",
      "Lay down and boogie and play that funky music till you die. \n",
      "\n",
      "Play that funky music Come on, Come on, let me hear \n",
      "Play that funky music white boy you say it, say it \n",
      "Play that funky music A little louder now \n",
      "Play that funky music, white boy Come on, Come on, Come on \n",
      "Play that funky music \n",
      "\u0004\u0004\u0004\u0004\n"
     ]
    }
   ],
   "source": [
    "cipher = Cipher(algorithms.AES(b\"YELLOW SUBMARINE\"), modes.ECB())\n",
    "decryptor = cipher.decryptor()\n",
    "decrypted = decryptor.update(cipher_bytes)\n",
    "print(decrypted.decode())"
   ]
  },
  {
   "cell_type": "markdown",
   "metadata": {},
   "source": [
    "...That concludes Task 7."
   ]
  },
  {
   "cell_type": "markdown",
   "metadata": {},
   "source": [
    "## Task 8: *Detect AES in ECB mode*"
   ]
  },
  {
   "cell_type": "markdown",
   "metadata": {},
   "source": [
    "We don't really have a hint for how to go about this, except that '16 byte plaintext block will always produce the same 16 byte ciphertext'. So, if we break up the ciphertext and find the normed Hamming distance for blocks of length 16, we might find one which is shorter:"
   ]
  },
  {
   "cell_type": "code",
   "execution_count": 112,
   "metadata": {},
   "outputs": [],
   "source": [
    "with open('s1t8_data.txt', 'r') as file:\n",
    "    cipher_strings = [string.replace('\\n', '') for string in file]\n"
   ]
  },
  {
   "cell_type": "code",
   "execution_count": 114,
   "metadata": {},
   "outputs": [],
   "source": [
    "hamming_norms = {s: norm_hamming_dist(s, 16) for s in cipher_strings}\n",
    "hamming_norms = {s: hamming_norms[s] for s in sorted(hamming_norms.keys(), key=lambda s: hamming_norms[s])}"
   ]
  },
  {
   "cell_type": "markdown",
   "metadata": {},
   "source": [
    "This produces nothing of note. Instead, we can crawl the strings and see if 16-byte blocks are ever repeated:"
   ]
  },
  {
   "cell_type": "code",
   "execution_count": 123,
   "metadata": {},
   "outputs": [],
   "source": [
    "from xmlrpc.client import boolean\n",
    "\n",
    "def block_repeats(s: str) -> boolean:\n",
    "    s_bytes = to_bytes(s)\n",
    "    blocks = [to_hex(s_bytes[i*16:(i+1)*16]) for i in range(len(s_bytes) // 16)]\n",
    "    if len(set(blocks)) == len(blocks):\n",
    "        return False\n",
    "    return True"
   ]
  },
  {
   "cell_type": "code",
   "execution_count": 125,
   "metadata": {},
   "outputs": [
    {
     "name": "stdout",
     "output_type": "stream",
     "text": [
      "d880619740a8a19b7840a8a31c810a3d08649af70dc06f4fd5d2d69c744cd283e2dd052f6b641dbf9d11b0348542bb5708649af70dc06f4fd5d2d69c744cd2839475c9dfdbc1d46597949d9c7e82bf5a08649af70dc06f4fd5d2d69c744cd28397a93eab8d6aecd566489154789a6b0308649af70dc06f4fd5d2d69c744cd283d403180c98c8f6db1f2a3f9c4040deb0ab51b29933f2c123c58386b06fba186a\n"
     ]
    }
   ],
   "source": [
    "for string in cipher_strings:\n",
    "    if block_repeats(string):\n",
    "        print(string)"
   ]
  },
  {
   "cell_type": "markdown",
   "metadata": {},
   "source": [
    "The chances of a hex-encoded string having a 16-byte repeat, randomly, is absolutely tiny, so this should be our match! Taking this to be true, we can move on to set 2, where we will in fact learn how to crack ECB encrypted messages, at which point we can come back here and hopefully check our work."
   ]
  },
  {
   "cell_type": "markdown",
   "metadata": {},
   "source": [
    "## Appendix A: *Bytes in Python*"
   ]
  },
  {
   "cell_type": "markdown",
   "metadata": {},
   "source": [
    "To the uninitiated, the *bytes* type in Python can be a little confusing. Turning a string into a *bytes* type is easy:"
   ]
  },
  {
   "cell_type": "code",
   "execution_count": 131,
   "metadata": {},
   "outputs": [
    {
     "name": "stdout",
     "output_type": "stream",
     "text": [
      "b'Hello World!' <class 'bytes'>\n"
     ]
    }
   ],
   "source": [
    "bytes_example = \"Hello World!\".encode()\n",
    "print(bytes_example, type(bytes_example))"
   ]
  },
  {
   "cell_type": "markdown",
   "metadata": {},
   "source": [
    "Naively, the string just picks up this preceding '**b**', which can be used to initialise *bytes*, too. This object now behaves loosely like a string, in that addition and multiplication simply append other *bytes* to the object:"
   ]
  },
  {
   "cell_type": "code",
   "execution_count": 132,
   "metadata": {},
   "outputs": [
    {
     "name": "stdout",
     "output_type": "stream",
     "text": [
      "b'Hello World! What a wonderful life!'\n",
      "b'HaHaHaHaHa'\n"
     ]
    }
   ],
   "source": [
    "bytes_example += b\" What a wonderful life!\"\n",
    "print(bytes_example)\n",
    "print(b\"Ha\" * 5)"
   ]
  },
  {
   "cell_type": "markdown",
   "metadata": {},
   "source": [
    "Difficult arises in trying to perform logical operations on *bytes* objects, which aren't defined:"
   ]
  },
  {
   "cell_type": "code",
   "execution_count": 133,
   "metadata": {},
   "outputs": [
    {
     "ename": "TypeError",
     "evalue": "unsupported operand type(s) for ^: 'bytes' and 'bytes'",
     "output_type": "error",
     "traceback": [
      "\u001b[1;31m---------------------------------------------------------------------------\u001b[0m",
      "\u001b[1;31mTypeError\u001b[0m                                 Traceback (most recent call last)",
      "\u001b[1;32mc:\\Users\\whatf\\OneDrive\\Desktop\\Cryptopals-lite\\Set_1.ipynb Cell 83\u001b[0m in \u001b[0;36m<cell line: 1>\u001b[1;34m()\u001b[0m\n\u001b[1;32m----> <a href='vscode-notebook-cell:/c%3A/Users/whatf/OneDrive/Desktop/Cryptopals-lite/Set_1.ipynb#Y216sZmlsZQ%3D%3D?line=0'>1</a>\u001b[0m \u001b[39mb\u001b[39;49m\u001b[39m\"\u001b[39;49m\u001b[39mHello\u001b[39;49m\u001b[39m\"\u001b[39;49m \u001b[39m^\u001b[39;49m \u001b[39mb\u001b[39;49m\u001b[39m\"\u001b[39;49m\u001b[39mWorld\u001b[39;49m\u001b[39m\"\u001b[39;49m\n",
      "\u001b[1;31mTypeError\u001b[0m: unsupported operand type(s) for ^: 'bytes' and 'bytes'"
     ]
    }
   ],
   "source": [
    "b\"Hello\" ^ b\"World\""
   ]
  },
  {
   "cell_type": "markdown",
   "metadata": {},
   "source": [
    "*Yes*, this is frustrating. However, we can quickly see that under the hood, *bytes* are not exactly what they seem:"
   ]
  },
  {
   "cell_type": "code",
   "execution_count": 134,
   "metadata": {},
   "outputs": [
    {
     "data": {
      "text/plain": [
       "[72, 101, 108, 108, 111]"
      ]
     },
     "execution_count": 134,
     "metadata": {},
     "output_type": "execute_result"
    }
   ],
   "source": [
    "list(b\"Hello\")"
   ]
  },
  {
   "cell_type": "markdown",
   "metadata": {},
   "source": [
    "In fact, *bytes* are just integer lists, where each spot in the list is occupied by a number between 0 and 255 (no big prizes for guessing why). Then, the *bytes* class's real talent is just taking an integer list, and pretty-printing whenever it can the *utf-8* encodings corresponding to the given element.\n",
    "\n",
    "As such, we now have a very easy way to generate the logical XOR of two *bytes* buffers:"
   ]
  },
  {
   "cell_type": "code",
   "execution_count": 135,
   "metadata": {},
   "outputs": [
    {
     "data": {
      "text/plain": [
       "b'\\x1f\\n\\x1e\\x00\\x0b'"
      ]
     },
     "execution_count": 135,
     "metadata": {},
     "output_type": "execute_result"
    }
   ],
   "source": [
    "bytes([a ^ b for a, b in zip(b\"Hello\", b\"World\")])"
   ]
  },
  {
   "cell_type": "markdown",
   "metadata": {},
   "source": [
    "Note there are faster ways to implement this, but this is probably the simplest and most Pythonic. As we can now get back on with the cryptography.\n",
    "\n",
    "**TL; DR**:\n",
    "- *Bytes* objects are integer lists which Python encodes in the __repr__ dunder so that they display either as ascii characters, or hexadecimal numbers.\n",
    "- As such, they behave as lists with slicing and addition/multiplication.\n",
    "- Generating the logical XOR (or other logical operations) of the *bytes* is done using list comprehension: operrating on the integer elements, and then converting back into *bytes*."
   ]
  }
 ],
 "metadata": {
  "kernelspec": {
   "display_name": "Python 3.10.5 ('env': venv)",
   "language": "python",
   "name": "python3"
  },
  "language_info": {
   "codemirror_mode": {
    "name": "ipython",
    "version": 3
   },
   "file_extension": ".py",
   "mimetype": "text/x-python",
   "name": "python",
   "nbconvert_exporter": "python",
   "pygments_lexer": "ipython3",
   "version": "3.10.5"
  },
  "orig_nbformat": 4,
  "vscode": {
   "interpreter": {
    "hash": "c2bea6e0d28d6621ea549dc3ef82e91574104eeb14bffa1cd5c6b75f66735ec7"
   }
  }
 },
 "nbformat": 4,
 "nbformat_minor": 2
}
